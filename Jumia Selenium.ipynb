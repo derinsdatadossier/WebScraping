{
 "cells": [
  {
   "cell_type": "code",
   "execution_count": 1,
   "id": "6b76a96d",
   "metadata": {},
   "outputs": [],
   "source": [
    "# import relevant packages and modules\n",
    "from selenium import webdriver\n",
    "from selenium.webdriver.common.keys import Keys\n",
    "from selenium.webdriver.common.by import By\n",
    "from selenium.webdriver.chrome.options import Options\n",
    "from selenium.webdriver.chrome.service import Service\n",
    "from selenium.webdriver.support.ui import WebDriverWait\n",
    "from selenium.webdriver.support import expected_conditions as EC\n",
    "import pandas as pd\n",
    "import pygetwindow as gw\n",
    "import time "
   ]
  },
  {
   "cell_type": "code",
   "execution_count": 5,
   "id": "1cfeb339",
   "metadata": {},
   "outputs": [],
   "source": [
    "chrome_driverpath = \"C:/chromedriver-win64/chromedriver.exe\"\n",
    "service = Service(executable_path=chrome_driverpath)\n",
    "driver1 = webdriver.Chrome(service=service) \n",
    "website1= \"https://www.jumia.com.ng/\""
   ]
  },
  {
   "cell_type": "code",
   "execution_count": 6,
   "id": "b0396c4f",
   "metadata": {},
   "outputs": [],
   "source": [
    "driver1.get(website1)\n",
    "driver1.maximize_window()\n",
    "time.sleep(1)"
   ]
  },
  {
   "cell_type": "markdown",
   "id": "ef77f728",
   "metadata": {},
   "source": [
    "### Accept Cookies"
   ]
  },
  {
   "cell_type": "code",
   "execution_count": 10,
   "id": "96254b40",
   "metadata": {},
   "outputs": [],
   "source": [
    "accept_cookies = driver1.find_element(By.XPATH, '//button[@class=\"btn _prim -df -mla\"]')\n",
    "accept_cookies.click()"
   ]
  }
 ],
 "metadata": {
  "kernelspec": {
   "display_name": "Python 3 (ipykernel)",
   "language": "python",
   "name": "python3"
  },
  "language_info": {
   "codemirror_mode": {
    "name": "ipython",
    "version": 3
   },
   "file_extension": ".py",
   "mimetype": "text/x-python",
   "name": "python",
   "nbconvert_exporter": "python",
   "pygments_lexer": "ipython3",
   "version": "3.11.5"
  }
 },
 "nbformat": 4,
 "nbformat_minor": 5
}
