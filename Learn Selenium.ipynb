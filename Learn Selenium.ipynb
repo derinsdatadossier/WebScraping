{
 "cells": [
  {
   "cell_type": "markdown",
   "id": "da3fc391",
   "metadata": {},
   "source": [
    "##  Section 2: Basics of XPath Expressions"
   ]
  },
  {
   "cell_type": "markdown",
   "id": "3d8b5b65",
   "metadata": {},
   "source": [
    "### Absolte XPath\n",
    "\n",
    "Webpage - https://www.jumia.com.ng/catalog/?q=laptop  \n",
    "Absolute XPath for Shipped from Nigeria - html/body/div/main/div[2]/div[3]/section/div/a[2]  \n",
    "\n",
    "### Relative XPath\n",
    "\n",
    "Webpage - https://www.jumia.com.ng/catalog/?q=laptop  \n",
    "Absolute XPath for Shipped from Nigeria - //section[@class=\"card -fh\"]/div/a[2]  \n",
    "\n",
    "### Difference between \"/\" and \"//\"\n",
    "html/body/div/main/div[2]/div[3]/section/div/a[2] = html/body/div//section/div/a[2]   \n",
    "\n",
    "\"/main/div[2]/div[3]/\" = //  \n",
    "\n",
    "### Parents and Siblings Logic\n",
    "From child to Parent ----> //div[@class=\"itm\"][7]/parent::div  \n",
    "From child to preceding sibling ----> //div[@class=\"itm\"][7]/preceding-sibling::div[1]  \n",
    "From child to following sibling ----> //div[@class=\"itm\"][7]/following-sibling::div[2]  "
   ]
  },
  {
   "cell_type": "markdown",
   "id": "013415a2",
   "metadata": {},
   "source": [
    "## Section 3: Basics of Selenium for Web Scraping"
   ]
  },
  {
   "cell_type": "markdown",
   "id": "d123e6fd",
   "metadata": {},
   "source": [
    "### Part 1 -  Set Up"
   ]
  },
  {
   "cell_type": "code",
   "execution_count": 45,
   "id": "bda0ae24",
   "metadata": {},
   "outputs": [],
   "source": [
    "# install relevant packages and modules\n",
    "from selenium import webdriver\n",
    "from selenium.webdriver.common.keys import Keys\n",
    "from selenium.webdriver.common.by import By\n",
    "from selenium.webdriver.chrome.options import Options\n",
    "from selenium.webdriver.chrome.service import Service\n",
    "from selenium.webdriver.support import expected_conditions as EC\n",
    "\n",
    "import time "
   ]
  },
  {
   "cell_type": "code",
   "execution_count": 27,
   "id": "1134795a",
   "metadata": {},
   "outputs": [],
   "source": [
    "#relevant websites\n",
    "website1 = 'https://www.geekbuying.com/search/laptops'\n",
    "website2 = 'https://www.automationexercise.com/'\n",
    "website3 = \"https://www.jumia.com.ng/mlp-k-black-friday-computer-accessories/\"\n",
    "website4 = \"https://fbref.com/en/matches/cc5b4244/Manchester-United-Fulham-August-16-2024-Premier-League\"\n",
    "website5 = \"https://1xbet.whoscored.com/matches/1821355/live/england-premier-league-2024-2025-southampton-manchester-city\""
   ]
  },
  {
   "cell_type": "code",
   "execution_count": 3,
   "id": "0bf53c72",
   "metadata": {},
   "outputs": [],
   "source": [
    "# Your ChromeDriver path\n",
    "chromedriver_path = \"C:/chromedriver-win64/chromedriver.exe\"\n",
    "\n",
    "# Create a Service object\n",
    "service = Service(executable_path=chromedriver_path)"
   ]
  },
  {
   "cell_type": "code",
   "execution_count": 4,
   "id": "a8042c69",
   "metadata": {},
   "outputs": [],
   "source": [
    "# Initialize the driver using the Service object\n",
    "driver = webdriver.Chrome(service=service)\n",
    "\n",
    "# open website\n",
    "driver.get(website1)\n",
    "\n",
    "#dmaximize window\n",
    "driver.maximize_window()"
   ]
  },
  {
   "cell_type": "markdown",
   "id": "6b5f9b29",
   "metadata": {},
   "source": [
    "### Part 2 - Locators"
   ]
  },
  {
   "cell_type": "markdown",
   "id": "2f5de874",
   "metadata": {},
   "source": [
    "##### Xpath Locator "
   ]
  },
  {
   "cell_type": "code",
   "execution_count": 5,
   "id": "f8201d2e",
   "metadata": {},
   "outputs": [],
   "source": [
    "price = driver.find_element(By.XPATH,'(//li[@class=\"searchResultItem\"]/div/div[3])[1]')"
   ]
  },
  {
   "cell_type": "code",
   "execution_count": 6,
   "id": "6d15d027",
   "metadata": {},
   "outputs": [
    {
     "name": "stdout",
     "output_type": "stream",
     "text": [
      "$120.13\n"
     ]
    }
   ],
   "source": [
    "# print out the price\n",
    "print(price.text.split()[0])"
   ]
  },
  {
   "cell_type": "code",
   "execution_count": 7,
   "id": "325ba1d4",
   "metadata": {},
   "outputs": [],
   "source": [
    "prices = driver.find_elements(By.XPATH,('//li[@class=\"searchResultItem\"]/div/div[3]'))"
   ]
  },
  {
   "cell_type": "code",
   "execution_count": 8,
   "id": "cdcf67eb",
   "metadata": {},
   "outputs": [
    {
     "data": {
      "text/plain": [
       "40"
      ]
     },
     "execution_count": 8,
     "metadata": {},
     "output_type": "execute_result"
    }
   ],
   "source": [
    "len(prices)"
   ]
  },
  {
   "cell_type": "code",
   "execution_count": 9,
   "id": "e1a5359e",
   "metadata": {},
   "outputs": [
    {
     "name": "stdout",
     "output_type": "stream",
     "text": [
      "$120.13\n",
      "$102.65\n",
      "$282.88\n",
      "$70.98\n",
      "$8.99\n",
      "$1527.96\n",
      "$202.04\n",
      "$4.99\n",
      "$4.99\n",
      "$1036.48\n",
      "$293.80\n",
      "$54.60\n",
      "$523.15\n",
      "$4.99\n",
      "$4.99\n",
      "$4.99\n",
      "$8.99\n",
      "$9.82\n",
      "$9.82\n",
      "$1637.18\n",
      "$239.19\n",
      "$40.40\n",
      "$65.52\n",
      "$818.04\n",
      "$1527.96\n",
      "$752.51\n",
      "$1036.48\n",
      "$76.44\n",
      "$54.60\n",
      "$41.49\n",
      "$41.49\n",
      "$41.49\n",
      "$1637.18\n",
      "$43.68\n",
      "$588.68\n",
      "$43.68\n",
      "$1527.96\n",
      "$43.58\n",
      "$4.99\n",
      "$4.99\n"
     ]
    }
   ],
   "source": [
    "# print out all price points\n",
    "for p in prices:\n",
    "    print(p.text.split()[0])"
   ]
  },
  {
   "cell_type": "code",
   "execution_count": 10,
   "id": "f884bbee",
   "metadata": {},
   "outputs": [
    {
     "data": {
      "text/plain": [
       "list"
      ]
     },
     "execution_count": 10,
     "metadata": {},
     "output_type": "execute_result"
    }
   ],
   "source": [
    "type(prices)"
   ]
  },
  {
   "cell_type": "markdown",
   "id": "2d661db0",
   "metadata": {},
   "source": [
    "##### Using Class Name"
   ]
  },
  {
   "cell_type": "code",
   "execution_count": 11,
   "id": "25b706c7",
   "metadata": {},
   "outputs": [],
   "source": [
    "names = driver.find_elements(By.CLASS_NAME,\"pro_title\")"
   ]
  },
  {
   "cell_type": "code",
   "execution_count": 12,
   "id": "48b35963",
   "metadata": {},
   "outputs": [
    {
     "name": "stdout",
     "output_type": "stream",
     "text": [
      "40\n"
     ]
    }
   ],
   "source": [
    "print(len(names))"
   ]
  },
  {
   "cell_type": "code",
   "execution_count": 13,
   "id": "b6ba036a",
   "metadata": {},
   "outputs": [
    {
     "data": {
      "text/plain": [
       "list"
      ]
     },
     "execution_count": 13,
     "metadata": {},
     "output_type": "execute_result"
    }
   ],
   "source": [
    "type(names)"
   ]
  },
  {
   "cell_type": "code",
   "execution_count": 14,
   "id": "af88f139",
   "metadata": {},
   "outputs": [
    {
     "name": "stdout",
     "output_type": "stream",
     "text": [
      "1. AOSIMAN S156FPC Portable Monitor, 15.6 inch 1920*1080P Screen, 178° Viewing Angle, 1200:1 Contrast Ratio, Built-in Dual Speakers, Compatible with PS3/4/5, Switch, Xbox, Phone, \n",
      "\n",
      "2. Flydigi APEX 4 Gaming Controller, Force Feedback Trigger, Force-adjustable Alloy Joystick, 1000Hz Polling Rate, LCD Display, Compatible with PC, NS, TV, Android & \n",
      "\n",
      "3. BMAX X15 Pro Laptop, 15.6 inch 1920*1080 IPS Screen, Intel N95 4 Cores Max 3.4GHz, 16GB RAM 512GB SSD, WiFi 5 Bluetooth 5.0, 5000mAh Battery, 1*Type-C, 2*USB3.2, 1*Mini HDMI, 1*Micro SD Slot, 1*Headset Jack, Full-size Keyboard \n",
      "\n",
      "4. Flydigi Vader 4 Pro Gaming Controller, Force Adjustment Lever Joystick, Hall & Micro 2-in-1 Triggers, 1000Hz Polling Rate, Compatible with PC, NS, TV, Android & \n",
      "\n",
      "5. USB 3.0 SD Card Reader 5Gbps Transmission Speed for TV, , Computer, Camera - Black \n",
      "\n",
      "6. GPD Pocket 4 Handheld Laptop, 8.8'' 2560*1600 Touchscreen, 144Hz Refresh Rate, AMD Ryzen AI 9 HX 370 12 Cores Max 5.1GHz, 64GB RAM 2TB SSD, WiFi6E Bluetooth5.3, 1*USB4, 1*HDMI, 1*Full-Featured USB-C, 1*USB3.2, 1*USB2.0, 1*microSD, 1*RJ45 - EU Plug \n",
      "\n",
      "7. GTMEDIA MATE X Portable Dual Screen Monitor Laptop Screen Extender for 13-17.3\" , 11.6 inches 1920*1080 IPS Screen, 60Hz Refresh Rate, 178° Viewing Angle, 2*Type-C 1*HDMI 1*USB 2.0 1*3.5mm Headphone Jack \n",
      "\n",
      "8. Portable USB LED Reading Light with Flexible Arm, Mini Night Lamp for , Desktop - Blue \n",
      "\n",
      "9. Portable USB LED Reading Light with Flexible Arm, Mini Night Lamp for , Desktop - Black \n",
      "\n",
      "10. GPD Pocket 4 Handheld Laptop, 8.8'' 2560*1600 Touchscreen, 144Hz Refresh Rate, AMD Ryzen 7 8840U 8 Cores Max 5.1GHz, 16GB RAM 1TB SSD, WiFi6E Bluetooth5.3, 1*USB4, 1*HDMI, 1*Full-Featured USB-C, 1*USB3.2, 1*USB2.0, 1*microSD, 1*RJ45 - EU Plug \n",
      "\n",
      "11. AOOSTAR AG02 eGPU Dock with Oculink & USB4 Port, 100W Reverse Charging, Built-in 800W Power Supply, Supports TGX Interface Hot-swap \n",
      "\n",
      "12. CHUWI Magnetic Keyboard for Hi10 Max Laptop \n",
      "\n",
      "13. Ninkear A15 Pro Laptop, 16 inch 2560*1600 Screen, 120Hz Refresh Rate, AMD Ryzen 5 7430U 6 Cores Max 4.3GHz, 16GB RAM 1TB SSD, WiFi6 Bluetooth5.2, Fingerprint Unlock, Backlit Keyboard, 2 Full-featured Type-C, 3*USB3.0, 1*HDMI, 1*Micro SD Card, 1*Audio \n",
      "\n",
      "14. Portable USB LED Reading Light with Flexible Arm, Mini Night Lamp for , Desktop - Purple \n",
      "\n",
      "15. Portable USB LED Reading Light with Flexible Arm, Mini Night Lamp for , Desktop - White \n",
      "\n",
      "16. Portable USB LED Reading Light with Flexible Arm, Mini Night Lamp for , Desktop - Orange \n",
      "\n",
      "17. USB 2.0 SD Card Reader 5Gbps Transmission Speed for TV, , Computer, Camera - Black \n",
      "\n",
      "18. 8-in-1 Multifunctional Electronic Cleaning Kit, Keyboard Headphones Phone Screen Cleaning Tool - Black \n",
      "\n",
      "19. 8-in-1 Multifunctional Electronic Cleaning Kit, Keyboard Headphones Phone Screen Cleaning Tool - White \n",
      "\n",
      "20. GPD WIN Max 2 (2025) Handheld Gaming PC, AMD Ryzen AI 9 HX 370 12 Cores Max 5.1GHz, 10.1'' 2560*1600 Screen, 32GB LPDDR5x 7500MT/s RAM 2TB SSD, 4G LTE, WiFi 6E Bluetooth 5.3, 2*USB4, 1*Oculink, 1*HDMI2.1, 2*USB 3.2, 1*SD, 1*microSD, 35W TDP - EU Plug \n",
      "\n",
      "21. AOOSTAR AG01 eGPU Dock with Oculink Port, Built-in 800W Power Supply, Supports TGX Interface Hot-swap \n",
      "\n",
      "22. 13-in-1 Laptop Docking Station \n",
      "\n",
      "23. ETOE Wireless HDMI Transmitter & Receiver Kit – AirPlay & Miracast Plug-and-Play, 1080p HD with Auto-Upscale to 4K, 2.4 GHz/5 GHz Near-Zero Latency, 50 m Range, Compatible with Phones, , TVs & Projectors \n",
      "\n",
      "24. Ninkear N16 Pro Laptop, 16 inch 2560*1600 IPS Screen, Intel Core i9-12900HK 14 Cores Max 5.0GHz, 32GB RAM 1TB SSD, 120Hz Refresh Rate, WiFi 6, 5000mAh, Backlit Keyboard, 1*Full-featured Type-C, 2*USB3.0, 1*USB2.0, 1*HDMI, 1*RJ45 1*Headphone Jack \n",
      "\n",
      "25. GPD Pocket 4 Handheld Laptop, 8.8'' 2560*1600 Touchscreen, 144Hz Refresh Rate, AMD Ryzen AI 9 HX 370 12 Cores Max 5.1GHz, 32GB RAM 2TB SSD, WiFi6E Bluetooth5.3, 1*USB4, 1*HDMI, 1*Full-Featured USB-C, 1*USB3.2, 1*USB2.0, 1*microSD, 1*RJ45 - EU Plug \n",
      "\n",
      "26. GPD Pocket 3 Handheld Laptop, Intel Core i3-1125G4 4 Core Max 3.7GHz, 8 inch 1920*1200 IPS Screen, 16GB RAM 512GB SSD, WiFi6E Bluetooth5.3, 10000mAh Battery, 1*Thunderbolt 4, 1*HDMI, 3*USB3.2, 1*RJ45 \n",
      "\n",
      "27. GPD Pocket 4 Handheld Laptop, 8.8'' 2560*1600 Touchscreen, 144Hz Refresh Rate, AMD Ryzen 7 8840U 8 Cores Max 5.1GHz, 16GB RAM 1TB SSD, WiFi6E Bluetooth5.3, 1*USB4, 1*HDMI, 1*Full-Featured USB-C, 1*USB3.2, 1*USB2.0, 1*microSD, 1*RJ45 - US Plug \n",
      "\n",
      "28. GPD Pocket 4 4G LTE Module \n",
      "\n",
      "29. Hanboost ES01 35 In 1 Electric Screwdriver Set, Cordless Precision Tool with Magnetic Bits, Manual and Electric Modes, 4 Torque, 4 LED, for PC/ Phone/ Camera/ / Watch/ Drone Repairs \n",
      "\n",
      "30. UPERFECT UBag 16 to 18-inch Laptop Bag Portable Monitor Sleeve \n",
      "\n",
      "31. UPERFECT UBag 18 to 19-inch Laptop Bag Portable Monitor Sleeve \n",
      "\n",
      "32. UPERFECT UBag 15.6-inch Laptop Bag Portable Monitor Sleeve \n",
      "\n",
      "33. GPD WIN Max 2 (2025) Handheld Gaming PC, AMD Ryzen AI 9 HX 370 12 Cores Max 5.1GHz, 10.1'' 2560*1600 Screen, 32GB LPDDR5x 7500MT/s RAM 2TB SSD, 4G LTE, WiFi 6E Bluetooth 5.3, 2*USB4, 1*Oculink, 1*HDMI2.1, 2*USB 3.2, 1*SD, 1*microSD, 35W TDP - US Plug \n",
      "\n",
      "34. One Netbook Controller Connector for OneXPlayer X1 Pro AMD Ryzen AI 9 HX 370 Handheld Gaming PC \n",
      "\n",
      "35. UPERFECT Delta Max 18.5-inch Dual Screen Portable Monitor, 1920*1080 IPS Screen, 100Hz Refresh Rate, 100% sRGB, Built-in Speaker, Driver Free, 360° Folding, Adjustable Stand & VESA Mountable, Screen Extender for PC Phone Game Console - EU Plug \n",
      "\n",
      "36. ESSAGER 8-in-1 USB Hub, USB Type-C to HDMI, 4K HD Display, 10Gpbs Transmission Speed, 1*USB3.2 1*USB2.0 1*SD Card Slot 1*TF Card Slot, Compatible Dock Station for MacBook Pro, MacBook Air, Support Windows, Linux, iPad OS \n",
      "\n",
      "37. GPD Pocket 4 Handheld Laptop, 8.8'' 2560*1600 Touchscreen, 144Hz Refresh Rate, AMD Ryzen AI 9 HX 370 12 Cores Max 5.1GHz, 64GB RAM 2TB SSD, WiFi6E Bluetooth5.3, 1*USB4, 1*HDMI, 1*Full-Featured USB-C, 1*USB3.2, 1*USB2.0, 1*microSD, 1*RJ45 - US Plug \n",
      "\n",
      "38. MINIX P1 GaN Quick Charger, 65W Max Output, 2*USB-C, 1*USB-A \n",
      "\n",
      "39. Portable USB LED Reading Light with Flexible Arm, Mini Night Lamp for , Desktop - Yellow \n",
      "\n",
      "40. Portable USB LED Reading Light with Flexible Arm, Mini Night Lamp for , Desktop - Pink \n",
      "\n"
     ]
    }
   ],
   "source": [
    "for i, product_name in enumerate(names, start=1):\n",
    "    print(f\"{i}. {product_name.text} \\n\")\n"
   ]
  },
  {
   "cell_type": "code",
   "execution_count": 15,
   "id": "70fa23a6",
   "metadata": {},
   "outputs": [
    {
     "name": "stdout",
     "output_type": "stream",
     "text": [
      "AOSIMAN S156FPC Portable Monitor, 15.6 inch 1920*1080P Screen, 178° Viewing Angle, 1200:1 Contrast Ratio, Built-in Dual Speakers, Compatible with PS3/4/5, Switch, Xbox, Phone,\n"
     ]
    }
   ],
   "source": [
    "#printing one specific Item from the list\n",
    "print(names[0].text)"
   ]
  },
  {
   "cell_type": "markdown",
   "id": "65454dba",
   "metadata": {},
   "source": [
    "##### ID Locator "
   ]
  },
  {
   "cell_type": "code",
   "execution_count": 47,
   "id": "48107205",
   "metadata": {},
   "outputs": [],
   "source": [
    "# Initialize the driver using the Service object\n",
    "driver2 = webdriver.Chrome(service=service)\n",
    "\n",
    "# open website\n",
    "driver2.get(website2)\n",
    "\n",
    "#wait a bit\n",
    "time.sleep(1)"
   ]
  },
  {
   "cell_type": "code",
   "execution_count": 18,
   "id": "87d1ef66",
   "metadata": {},
   "outputs": [],
   "source": [
    "# Initialize the driver using the Service object\n",
    "driver3 = webdriver.Chrome(service=service)\n",
    "\n",
    "# open website\n",
    "driver3.get(website3)\n",
    "\n",
    "#wait a bit\n",
    "time.sleep(1)"
   ]
  },
  {
   "cell_type": "code",
   "execution_count": 20,
   "id": "2ee0b74e",
   "metadata": {},
   "outputs": [],
   "source": [
    "search = driver3.find_element(By.ID,'fi-q')\n",
    "\n",
    "#click\n",
    "search.click()\n",
    "time.sleep(1)\n",
    "search.send_keys(\"Laptops\")"
   ]
  },
  {
   "cell_type": "markdown",
   "id": "3fad344c",
   "metadata": {},
   "source": [
    "##### Name Locator "
   ]
  },
  {
   "cell_type": "code",
   "execution_count": 28,
   "id": "0936dea5",
   "metadata": {},
   "outputs": [],
   "source": [
    "# Initialize the driver using the Service object\n",
    "driver5 = webdriver.Chrome(service=service)\n",
    "\n",
    "# open website\n",
    "driver5.get(website5)\n",
    "\n",
    "#wait a bit\n",
    "time.sleep(1)"
   ]
  },
  {
   "cell_type": "code",
   "execution_count": 32,
   "id": "dad4b6ec",
   "metadata": {},
   "outputs": [],
   "source": [
    "dropdown = driver5.find_element(By.NAME,'matches') \n",
    "dropdown.click()"
   ]
  },
  {
   "cell_type": "markdown",
   "id": "c5931abe",
   "metadata": {},
   "source": [
    "##### LinkText-Locator"
   ]
  },
  {
   "cell_type": "code",
   "execution_count": 43,
   "id": "67cdf4f2",
   "metadata": {
    "scrolled": true
   },
   "outputs": [],
   "source": [
    "contact = driver2.find_element(By.LINK_TEXT,\"Contact us\")\n",
    "contact.click()"
   ]
  },
  {
   "cell_type": "markdown",
   "id": "05a5f9c1",
   "metadata": {},
   "source": [
    "##### Partial LinkText-Locator"
   ]
  },
  {
   "cell_type": "code",
   "execution_count": 44,
   "id": "8f50ab19",
   "metadata": {},
   "outputs": [],
   "source": [
    "contact = driver2.find_element(By.PARTIAL_LINK_TEXT,\"Contact us\")\n",
    "contact.click()"
   ]
  },
  {
   "cell_type": "markdown",
   "id": "78660800",
   "metadata": {},
   "source": [
    "### Part 3: Alternative XPath"
   ]
  },
  {
   "cell_type": "code",
   "execution_count": null,
   "id": "95d38403",
   "metadata": {},
   "outputs": [],
   "source": [
    "# Option 1 - XPath Locator\n",
    "price = driver.find_element(By.XPATH,'(//li[@class=\"searchResultItem\"]/div/div[3])[1]')"
   ]
  },
  {
   "cell_type": "code",
   "execution_count": null,
   "id": "35ef919a",
   "metadata": {},
   "outputs": [],
   "source": [
    "# Option 2 - XPath Locator\n",
    "price = EC.presence_of_element_located()"
   ]
  },
  {
   "cell_type": "markdown",
   "id": "d383835e",
   "metadata": {},
   "source": [
    "### Part4 - Selenium In Action "
   ]
  },
  {
   "cell_type": "code",
   "execution_count": 49,
   "id": "c2b7f2fb",
   "metadata": {},
   "outputs": [],
   "source": [
    "#click products\n",
    "product_page = driver2.find_element(By.XPATH,'//i[@class=\"material-icons card_travel\"]')"
   ]
  },
  {
   "cell_type": "code",
   "execution_count": 51,
   "id": "b41fd690",
   "metadata": {},
   "outputs": [],
   "source": [
    "submit_search = driver2.find_element(By.ID,'submit_search')"
   ]
  },
  {
   "cell_type": "code",
   "execution_count": 55,
   "id": "370aecb8",
   "metadata": {},
   "outputs": [],
   "source": [
    "#click products\n",
    "product_page = driver2.find_element(By.XPATH,'//i[@class=\"material-icons card_travel\"]')\n",
    "product_page.click()\n",
    "\n",
    "\n",
    "\n",
    "#find search bar\n",
    "search = driver2.find_element(By.ID,'search_product')\n",
    "search.click()\n",
    "time.sleep(3)\n",
    "search.send_keys(\"Shirts\")\n",
    "\n",
    "# submit search\n",
    "submit_search = driver2.find_element(By.ID,'submit_search')\n",
    "submit_search.click()\n",
    "time.sleep(5)\n",
    "\n",
    "# go back\n",
    "driver2.back()\n",
    "time.sleep(4)\n",
    "\n",
    "#click contacts\n",
    "contact = driver2.find_element(By.LINK_TEXT,\"Contact us\")\n",
    "contact.click()\n",
    "time.sleep(4)\n",
    "\n",
    "#close driver at the end\n",
    "driver2.close()"
   ]
  },
  {
   "cell_type": "markdown",
   "id": "884f736a",
   "metadata": {},
   "source": [
    "### Optional: Headless Mode "
   ]
  },
  {
   "cell_type": "code",
   "execution_count": 66,
   "id": "d4fdcbb7",
   "metadata": {},
   "outputs": [
    {
     "name": "stdout",
     "output_type": "stream",
     "text": [
      "Opened Website\n",
      "On products page\n",
      "Typing 'Shirts' in search bar\n",
      "searched 'Shirts'\n",
      "Back to Products\n",
      "On contact page\n",
      "Closed browser\n"
     ]
    }
   ],
   "source": [
    "chrome_options = Options()\n",
    "chrome_options.add_argument('--headless')  # fixed typo\n",
    "chrome_options.add_argument('--disable-gpu')  # optional but recommended for Windows\n",
    "# chrome_options.add_argument('--window-size=1920,1080')  # to prevent sizing issues in headless mode\n",
    "# Create a Service object\n",
    "service = Service(executable_path=chromedriver_path,options=chrome_options)\n",
    "\n",
    "# Initialize the driver using the Service object\n",
    "driver2 = webdriver.Chrome(service=service)\n",
    "# open website\n",
    "driver2.get(website2)\n",
    "#wait a bit\n",
    "time.sleep(1)\n",
    "print(\"Opened Website\")\n",
    "\n",
    "#click products\n",
    "product_page = driver2.find_element(By.XPATH,'//i[@class=\"material-icons card_travel\"]')\n",
    "product_page.click()\n",
    "print(\"On products page\")\n",
    "\n",
    "#find search bar\n",
    "search = driver2.find_element(By.ID,'search_product')\n",
    "search.click()\n",
    "time.sleep(1)\n",
    "search.send_keys(\"Shirts\")\n",
    "print(\"Typing 'Shirts' in search bar\")\n",
    "\n",
    "\n",
    "# submit search\n",
    "submit_search = driver2.find_element(By.ID,'submit_search')\n",
    "submit_search.click()\n",
    "time.sleep(1)\n",
    "print(\"searched 'Shirts'\")\n",
    "\n",
    "# go back\n",
    "driver2.back()\n",
    "time.sleep(1)\n",
    "print('Back to Products')\n",
    "\n",
    "#click contacts\n",
    "contact = driver2.find_element(By.LINK_TEXT,\"Contact us\")\n",
    "contact.click()\n",
    "time.sleep(1)\n",
    "print(\"On contact page\")\n",
    "\n",
    "#close driver at the end\n",
    "driver2.close()\n",
    "\n",
    "print(\"Closed browser\")"
   ]
  }
 ],
 "metadata": {
  "kernelspec": {
   "display_name": "Python 3 (ipykernel)",
   "language": "python",
   "name": "python3"
  },
  "language_info": {
   "codemirror_mode": {
    "name": "ipython",
    "version": 3
   },
   "file_extension": ".py",
   "mimetype": "text/x-python",
   "name": "python",
   "nbconvert_exporter": "python",
   "pygments_lexer": "ipython3",
   "version": "3.11.5"
  }
 },
 "nbformat": 4,
 "nbformat_minor": 5
}
