{
 "cells": [
  {
   "cell_type": "code",
   "execution_count": 1,
   "id": "27fae651",
   "metadata": {},
   "outputs": [],
   "source": [
    "# import relevant packages and modules\n",
    "from selenium import webdriver\n",
    "from selenium.webdriver.common.keys import Keys\n",
    "from selenium.webdriver.common.by import By\n",
    "from selenium.webdriver.chrome.options import Options\n",
    "from selenium.webdriver.chrome.service import Service\n",
    "from selenium.webdriver.support.ui import WebDriverWait\n",
    "from selenium.common.exceptions import InvalidSelectorException, NoSuchElementException, TimeoutException\n",
    "from selenium.webdriver.support import expected_conditions as EC\n",
    "import pandas as pd\n",
    "import pygetwindow as gw\n",
    "import time "
   ]
  },
  {
   "cell_type": "code",
   "execution_count": 2,
   "id": "853aaeaa-5aea-425e-b336-46a9c7023bbf",
   "metadata": {},
   "outputs": [],
   "source": [
    "chrome_driverpath = \"C:/chromedriver-win64/chromedriver.exe\"\n",
    "service = Service(executable_path=chrome_driverpath)\n",
    "driver1 = webdriver.Chrome(service=service) \n",
    "\n",
    "website1= \"https://www.transfermarkt.com/manchester-united/alumni/verein/985#google_vignette\"\n",
    "driver1.get(website1)\n",
    "driver1.maximize_window()"
   ]
  },
  {
   "cell_type": "code",
   "execution_count": 3,
   "id": "92136919",
   "metadata": {},
   "outputs": [
    {
     "name": "stdout",
     "output_type": "stream",
     "text": [
      "✅ Switched to iframe.\n",
      "✅ Accept button clicked.\n",
      "✅ Switched back to main content.\n"
     ]
    }
   ],
   "source": [
    "# Wait setup\n",
    "wait = WebDriverWait(driver1, 10)\n",
    "\n",
    "try:\n",
    "    # Wait for the iframe using @id \n",
    "    iframe = wait.until(EC.presence_of_element_located((By.XPATH, '//iframe[contains(@id, \"sp_message\")]')))\n",
    "    driver1.switch_to.frame(iframe)\n",
    "    print(\"✅ Switched to iframe.\")\n",
    "\n",
    "    # Wait for the Accept button and click it\n",
    "    accept_btn = wait.until(EC.element_to_be_clickable((By.XPATH, '//button[contains(text(), \"Accept All\") or contains(text(), \"Accept\")]')))\n",
    "    accept_btn.click()\n",
    "    print(\"✅ Accept button clicked.\")\n",
    "\n",
    "    # Return to main content\n",
    "    driver1.switch_to.default_content()\n",
    "    print(\"✅ Switched back to main content.\")\n",
    "\n",
    "except TimeoutException:\n",
    "    print(\"⚠️ Timed out waiting for iframe or accept button — maybe already accepted or not shown.\")\n",
    "\n",
    "# Continue scraping here...\n"
   ]
  },
  {
   "cell_type": "code",
   "execution_count": 8,
   "id": "114aa4b6-0ddf-4b20-bf03-aae04bdb7c9c",
   "metadata": {},
   "outputs": [
    {
     "name": "stdout",
     "output_type": "stream",
     "text": [
      "✅ On Detailed Page\n"
     ]
    }
   ],
   "source": [
    "detailed_button = wait.until(EC.element_to_be_clickable((By.XPATH, '(//div[@class=\"tm-tabs\"]/a/div/span)[2]')))\n",
    "detailed_button.click()\n",
    "print(\"✅ On Detailed Page\")"
   ]
  },
  {
   "cell_type": "code",
   "execution_count": 9,
   "id": "1bb9d72d-1bc2-4a37-937f-c63d695d3190",
   "metadata": {},
   "outputs": [],
   "source": [
    "def close_google_ad_popup(driver, timeout=10):\n",
    "    try:\n",
    "        wait = WebDriverWait(driver, timeout)\n",
    "        iframes = driver.find_elements(By.TAG_NAME, \"iframe\")\n",
    "        \n",
    "        for iframe in iframes:\n",
    "            try:\n",
    "                driver.switch_to.frame(iframe)\n",
    "                dismiss_selectors = [\n",
    "                    (By.XPATH, '//div[contains(@class, \"close\") or contains(@class, \"dismiss\")]'),\n",
    "                    (By.XPATH, '//button | //div[@role=\"button\"][contains(text(), \"Close\") or contains(text(), \"Dismiss\")]'),\n",
    "                ]\n",
    "                \n",
    "                for by, selector in dismiss_selectors:\n",
    "                    try:\n",
    "                        dismiss_btn = wait.until(EC.element_to_be_clickable((by, selector)))\n",
    "                        dismiss_btn.click()\n",
    "                        return True\n",
    "                    except TimeoutException:\n",
    "                        continue\n",
    "                driver.switch_to.default_content()\n",
    "            except NoSuchFrameException:\n",
    "                driver.switch_to.default_content()\n",
    "                continue\n",
    "        return False\n",
    "    except Exception as e:\n",
    "        print(f\"⚠️ Error closing pop-up: {str(e)}\")\n",
    "        return False\n",
    "    finally:\n",
    "        driver.switch_to.default_content()"
   ]
  },
  {
   "cell_type": "code",
   "execution_count": 10,
   "id": "8a5552de-b717-4265-a7af-cb77e4a0544a",
   "metadata": {},
   "outputs": [],
   "source": [
    "all_names, all_positions, all_countries, all_dobs, all_teams = [], [], [], [], []"
   ]
  },
  {
   "cell_type": "code",
   "execution_count": 11,
   "id": "5533c321-cd2c-430b-b15d-294da05494e7",
   "metadata": {},
   "outputs": [
    {
     "name": "stdout",
     "output_type": "stream",
     "text": [
      "On page 1\n",
      "✅ Page 1 scraped: 25 players.\n",
      "On page 2\n",
      "✅ Page 2 scraped: 25 players.\n",
      "On page 3\n",
      "✅ Page 3 scraped: 25 players.\n",
      "On page 4\n",
      "✅ Page 4 scraped: 25 players.\n",
      "On page 5\n",
      "✅ Page 5 scraped: 25 players.\n"
     ]
    }
   ],
   "source": [
    "for page in range(1, 50):\n",
    "    print(f\"On page {page}\")\n",
    "    \n",
    "    # # Try to close any pop-up\n",
    "    # try:\n",
    "    #     close_google_ad_popup(driver1, timeout=10)\n",
    "    # except Exception as e:\n",
    "    #     print(f\"⚠️ Failed to handle pop-up on page {page}: {e}\")\n",
    "    \n",
    "    # Scrape data\n",
    "    try:\n",
    "        # Player names\n",
    "        player_names = driver1.find_elements(By.XPATH, '//tbody/tr/td[1]/table[1][@class=\"inline-table\"]/tbody/tr/td[2]')\n",
    "        # Position\n",
    "        player_positions = driver1.find_elements(By.XPATH, '//tbody/tr/td[1]/table[1][@class=\"inline-table\"]/tbody/tr[2]/td')\n",
    "        # Country\n",
    "        player_countries = driver1.find_elements(By.XPATH, '//table[@class=\"items\"]/tbody/tr/td[5]/img')\n",
    "        # Age\n",
    "        player_dobs = driver1.find_elements(By.XPATH, '//*[@id=\"yw1\"]/table/tbody/tr/td[3]')\n",
    "        # Teams\n",
    "        player_teams = driver1.find_elements(By.XPATH, '//table[@class=\"items\"]/tbody/tr/td[8]')\n",
    "\n",
    "        # Append data\n",
    "        all_names.extend([n.text for n in player_names])\n",
    "        all_positions.extend([p.text for p in player_positions])\n",
    "        all_countries.extend([c.get_attribute('title') for c in player_countries])\n",
    "        all_dobs.extend([d.text for d in player_dobs])\n",
    "        all_teams.extend([t.text for t in player_teams])\n",
    "\n",
    "        print(f\"✅ Page {page} scraped: {len(player_names)} players.\")\n",
    "    except Exception as e:\n",
    "        print(f\"❌ Error extracting data on page {page}: {e}\")\n",
    "    \n",
    "    # Navigate to next page\n",
    "    try:\n",
    "        wait = WebDriverWait(driver1, 10)\n",
    "        next_button = wait.until(EC.element_to_be_clickable((By.XPATH, '//a[@title=\"Go to the next page\"]')))\n",
    "        driver1.execute_script(\"arguments[0].click();\", next_button)\n",
    "    except Exception as e:\n",
    "        print(f\"❌ Next button error on page {page}: {e}\")\n",
    "        break\n",
    "    \n",
    "    time.sleep(20)  # Reduced from 20s; adjust if needed"
   ]
  },
  {
   "cell_type": "code",
   "execution_count": null,
   "id": "ae7119bf-b8ca-494c-8591-5b979e618c19",
   "metadata": {},
   "outputs": [],
   "source": []
  },
  {
   "cell_type": "code",
   "execution_count": 64,
   "id": "19c62686-3148-4bdc-b899-d7d0de60c05f",
   "metadata": {},
   "outputs": [
    {
     "name": "stdout",
     "output_type": "stream",
     "text": [
      "✅ DataFrame created successfully\n",
      "                Name          Position   Country           DOB  \\\n",
      "0  Cristiano Ronaldo    Centre-Forward  Portugal   Feb 5, 1985   \n",
      "1     Raphaël Varane       Centre-Back    France  Apr 25, 1993   \n",
      "2         Paul Pogba  Central Midfield    France  Mar 15, 1993   \n",
      "3       Jadon Sancho       Left Winger   England  Mar 25, 2000   \n",
      "4       Gerard Piqué       Centre-Back     Spain   Feb 2, 1987   \n",
      "\n",
      "                                   Team  \n",
      "0                            First Team  \n",
      "1                            First Team  \n",
      "2  First Team/Reserves Team/Youth Teams  \n",
      "3                            First Team  \n",
      "4                            First Team  \n"
     ]
    }
   ],
   "source": [
    "# Create DataFrame\n",
    "if len(all_names) == len(all_positions) == len(all_countries) == len(all_dobs) == len(all_teams):\n",
    "    df = pd.DataFrame({\n",
    "        'Name': all_names,\n",
    "        'Position': all_positions,\n",
    "        'Country': all_countries,\n",
    "        'DOB': all_dobs,\n",
    "        'Team': all_teams\n",
    "    })\n",
    "    print(\"✅ DataFrame created successfully\")\n",
    "    print(df.head())\n",
    "else:\n",
    "    print(\"❌ Error: Lists have unequal lengths, cannot create DataFrame\")\n",
    "    print(f\"Lengths: Names={len(all_names)}, Positions={len(all_positions)}, Countries={len(all_countries)}, DOBs={len(all_dobs)}, Teams={len(all_teams)}\")"
   ]
  },
  {
   "cell_type": "code",
   "execution_count": 63,
   "id": "3395a553-bf87-4a12-90bd-1b33117716ca",
   "metadata": {},
   "outputs": [
    {
     "name": "stdout",
     "output_type": "stream",
     "text": [
      "1225\n",
      "1225\n",
      "1225\n",
      "1225\n",
      "1225\n"
     ]
    }
   ],
   "source": [
    "print(len(all_names))\n",
    "print(len(all_positions))\n",
    "print(len(all_countries))\n",
    "print(len(all_dobs))\n",
    "print(len(all_teams))"
   ]
  },
  {
   "cell_type": "code",
   "execution_count": 66,
   "id": "5bb7ca2a-dd3d-49f4-9c55-35067731bca0",
   "metadata": {},
   "outputs": [
    {
     "name": "stdout",
     "output_type": "stream",
     "text": [
      "True\n"
     ]
    }
   ],
   "source": [
    "def has_duplicates(lst):\n",
    "    return len(lst) != len(set(lst))\n",
    "print(has_duplicates(all_names)) # Output: True"
   ]
  },
  {
   "cell_type": "code",
   "execution_count": 72,
   "id": "ea997534-b68d-45e2-8f8c-61d5527cf8a2",
   "metadata": {},
   "outputs": [
    {
     "data": {
      "text/plain": [
       "7"
      ]
     },
     "execution_count": 72,
     "metadata": {},
     "output_type": "execute_result"
    }
   ],
   "source": [
    "df[\"Name\"].duplicated().sum()"
   ]
  },
  {
   "cell_type": "code",
   "execution_count": 74,
   "id": "57f32e19-ce61-4958-bf94-8eca26872397",
   "metadata": {},
   "outputs": [
    {
     "data": {
      "text/html": [
       "<div>\n",
       "<style scoped>\n",
       "    .dataframe tbody tr th:only-of-type {\n",
       "        vertical-align: middle;\n",
       "    }\n",
       "\n",
       "    .dataframe tbody tr th {\n",
       "        vertical-align: top;\n",
       "    }\n",
       "\n",
       "    .dataframe thead th {\n",
       "        text-align: right;\n",
       "    }\n",
       "</style>\n",
       "<table border=\"1\" class=\"dataframe\">\n",
       "  <thead>\n",
       "    <tr style=\"text-align: right;\">\n",
       "      <th></th>\n",
       "      <th>Name</th>\n",
       "      <th>Position</th>\n",
       "      <th>Country</th>\n",
       "      <th>DOB</th>\n",
       "      <th>Team</th>\n",
       "    </tr>\n",
       "  </thead>\n",
       "  <tbody>\n",
       "    <tr>\n",
       "      <th>0</th>\n",
       "      <td>Cristiano Ronaldo</td>\n",
       "      <td>Centre-Forward</td>\n",
       "      <td>Portugal</td>\n",
       "      <td>Feb 5, 1985</td>\n",
       "      <td>First Team</td>\n",
       "    </tr>\n",
       "  </tbody>\n",
       "</table>\n",
       "</div>"
      ],
      "text/plain": [
       "                Name        Position   Country          DOB        Team\n",
       "0  Cristiano Ronaldo  Centre-Forward  Portugal  Feb 5, 1985  First Team"
      ]
     },
     "execution_count": 74,
     "metadata": {},
     "output_type": "execute_result"
    }
   ],
   "source": [
    "df[df[\"Name\"]=='Cristiano Ronaldo']"
   ]
  },
  {
   "cell_type": "code",
   "execution_count": 77,
   "id": "6ac0a8b7-9967-4ccb-9d6f-f5c634f036d5",
   "metadata": {},
   "outputs": [],
   "source": [
    "df.to_csv(\"MUN_Players_Alumni_May2025.csv\",index= False)"
   ]
  }
 ],
 "metadata": {
  "kernelspec": {
   "display_name": "Python 3 (ipykernel)",
   "language": "python",
   "name": "python3"
  },
  "language_info": {
   "codemirror_mode": {
    "name": "ipython",
    "version": 3
   },
   "file_extension": ".py",
   "mimetype": "text/x-python",
   "name": "python",
   "nbconvert_exporter": "python",
   "pygments_lexer": "ipython3",
   "version": "3.11.5"
  }
 },
 "nbformat": 4,
 "nbformat_minor": 5
}
