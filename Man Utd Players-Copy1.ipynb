{
 "cells": [
  {
   "cell_type": "code",
   "execution_count": 1,
   "id": "27fae651",
   "metadata": {},
   "outputs": [],
   "source": [
    "# import relevant packages and modules\n",
    "from selenium import webdriver\n",
    "from selenium.webdriver.common.keys import Keys\n",
    "from selenium.webdriver.common.by import By\n",
    "from selenium.webdriver.chrome.options import Options\n",
    "from selenium.webdriver.chrome.service import Service\n",
    "from selenium.webdriver.support.ui import WebDriverWait\n",
    "from selenium.common.exceptions import InvalidSelectorException, NoSuchElementException, TimeoutException\n",
    "from selenium.webdriver.support import expected_conditions as EC\n",
    "import pandas as pd\n",
    "import pygetwindow as gw\n",
    "import time "
   ]
  },
  {
   "cell_type": "code",
   "execution_count": 2,
   "id": "853aaeaa-5aea-425e-b336-46a9c7023bbf",
   "metadata": {},
   "outputs": [],
   "source": [
    "chrome_driverpath = \"C:/chromedriver-win64/chromedriver.exe\"\n",
    "service = Service(executable_path=chrome_driverpath)\n",
    "driver1 = webdriver.Chrome(service=service) \n",
    "\n",
    "website1= \"https://www.transfermarkt.com/manchester-united/alumni/verein/985#google_vignette\"\n",
    "driver1.get(website1)\n",
    "driver1.maximize_window()"
   ]
  },
  {
   "cell_type": "code",
   "execution_count": 3,
   "id": "92136919",
   "metadata": {},
   "outputs": [
    {
     "name": "stdout",
     "output_type": "stream",
     "text": [
      "✅ Switched to iframe.\n",
      "✅ Accept button clicked.\n",
      "✅ Switched back to main content.\n"
     ]
    }
   ],
   "source": [
    "# Wait setup\n",
    "wait = WebDriverWait(driver1, 10)\n",
    "\n",
    "try:\n",
    "    # Wait for the iframe using @id \n",
    "    iframe = wait.until(EC.presence_of_element_located((By.XPATH, '//iframe[contains(@id, \"sp_message\")]')))\n",
    "    driver1.switch_to.frame(iframe)\n",
    "    print(\"✅ Switched to iframe.\")\n",
    "\n",
    "    # Wait for the Accept button and click it\n",
    "    accept_btn = wait.until(EC.element_to_be_clickable((By.XPATH, '//button[contains(text(), \"Accept All\") or contains(text(), \"Accept\")]')))\n",
    "    accept_btn.click()\n",
    "    print(\"✅ Accept button clicked.\")\n",
    "\n",
    "    # Return to main content\n",
    "    driver1.switch_to.default_content()\n",
    "    print(\"✅ Switched back to main content.\")\n",
    "\n",
    "except TimeoutException:\n",
    "    print(\"⚠️ Timed out waiting for iframe or accept button — maybe already accepted or not shown.\")\n",
    "\n",
    "# Continue scraping here...\n"
   ]
  },
  {
   "cell_type": "code",
   "execution_count": 4,
   "id": "114aa4b6-0ddf-4b20-bf03-aae04bdb7c9c",
   "metadata": {},
   "outputs": [
    {
     "name": "stdout",
     "output_type": "stream",
     "text": [
      "✅ On Detailed Page\n"
     ]
    }
   ],
   "source": [
    "detailed_button = wait.until(EC.element_to_be_clickable((By.XPATH, '(//div[@class=\"tm-tabs\"]/a/div/span)[2]')))\n",
    "detailed_button.click()\n",
    "print(\"✅ On Detailed Page\")"
   ]
  },
  {
   "cell_type": "code",
   "execution_count": 21,
   "id": "784fdeca-eb98-455d-a1a5-0786b3b388aa",
   "metadata": {},
   "outputs": [
    {
     "name": "stdout",
     "output_type": "stream",
     "text": [
      "⚠️ Pop-up not found or already dismissed:\n"
     ]
    }
   ],
   "source": [
    "# Wait briefly to allow pop-up iframe to load\n",
    "time.sleep(3)\n",
    "\n",
    "# Try to close the Google Ad popup if it appears\n",
    "try:\n",
    "    # Switch to the iframe containing the ad\n",
    "    wait.until(EC.frame_to_be_available_and_switch_to_it((By.XPATH, '//iframe[contains(@id, \"google_ads\")]')))\n",
    "\n",
    "    # Wait for the dismiss button to appear and click it\n",
    "    dismiss_btn = wait.until(EC.element_to_be_clickable((By.XPATH, '//*[@id=\"dismiss-button\"]/div')))\n",
    "    dismiss_btn.click()\n",
    "    print(\"✅ Pop-up closed\")\n",
    "\n",
    "    # Switch back to the main content\n",
    "    driver1.switch_to.default_content()\n",
    "\n",
    "except Exception as e:\n",
    "    print(\"⚠️ Pop-up not found or already dismissed:\")"
   ]
  },
  {
   "cell_type": "code",
   "execution_count": 32,
   "id": "1bb9d72d-1bc2-4a37-937f-c63d695d3190",
   "metadata": {},
   "outputs": [
    {
     "name": "stdout",
     "output_type": "stream",
     "text": [
      "Attempting to close pop-up...\n",
      "Found 10 iframes\n",
      "Switched to iframe 0\n",
      "Selector //div[contains(@class, \"close\") or contains(@class, \"dismiss\")] not found in iframe 0\n",
      "Selector //button | //div[@role=\"button\"][contains(text(), \"Close\") or contains(text(), \"Dismiss\")] not found in iframe 0\n",
      "Switched to iframe 1\n",
      "Selector //div[contains(@class, \"close\") or contains(@class, \"dismiss\")] not found in iframe 1\n",
      "Selector //button | //div[@role=\"button\"][contains(text(), \"Close\") or contains(text(), \"Dismiss\")] not found in iframe 1\n",
      "Switched to iframe 2\n",
      "Selector //div[contains(@class, \"close\") or contains(@class, \"dismiss\")] not found in iframe 2\n",
      "Selector //button | //div[@role=\"button\"][contains(text(), \"Close\") or contains(text(), \"Dismiss\")] not found in iframe 2\n",
      "Switched to iframe 3\n",
      "Selector //div[contains(@class, \"close\") or contains(@class, \"dismiss\")] not found in iframe 3\n",
      "Selector //button | //div[@role=\"button\"][contains(text(), \"Close\") or contains(text(), \"Dismiss\")] not found in iframe 3\n",
      "Switched to iframe 4\n",
      "Selector //div[contains(@class, \"close\") or contains(@class, \"dismiss\")] not found in iframe 4\n",
      "Selector //button | //div[@role=\"button\"][contains(text(), \"Close\") or contains(text(), \"Dismiss\")] not found in iframe 4\n",
      "Switched to iframe 5\n",
      "Selector //div[contains(@class, \"close\") or contains(@class, \"dismiss\")] not found in iframe 5\n",
      "Selector //button | //div[@role=\"button\"][contains(text(), \"Close\") or contains(text(), \"Dismiss\")] not found in iframe 5\n",
      "Switched to iframe 6\n",
      "Selector //div[contains(@class, \"close\") or contains(@class, \"dismiss\")] not found in iframe 6\n",
      "Selector //button | //div[@role=\"button\"][contains(text(), \"Close\") or contains(text(), \"Dismiss\")] not found in iframe 6\n",
      "Switched to iframe 7\n",
      "Selector //div[contains(@class, \"close\") or contains(@class, \"dismiss\")] not found in iframe 7\n",
      "Selector //button | //div[@role=\"button\"][contains(text(), \"Close\") or contains(text(), \"Dismiss\")] not found in iframe 7\n",
      "Switched to iframe 8\n",
      "Selector //div[contains(@class, \"close\") or contains(@class, \"dismiss\")] not found in iframe 8\n",
      "Selector //button | //div[@role=\"button\"][contains(text(), \"Close\") or contains(text(), \"Dismiss\")] not found in iframe 8\n",
      "Switched to iframe 9\n",
      "Selector //div[contains(@class, \"close\") or contains(@class, \"dismiss\")] not found in iframe 9\n",
      "Selector //button | //div[@role=\"button\"][contains(text(), \"Close\") or contains(text(), \"Dismiss\")] not found in iframe 9\n",
      "⚠️ No dismiss button found in any iframe\n",
      "Returned to main content\n"
     ]
    }
   ],
   "source": [
    "def close_google_ad_popup(driver, timeout=10):\n",
    "    wait = WebDriverWait(driver, timeout)\n",
    "    try:\n",
    "        print(\"Attempting to close pop-up...\")\n",
    "        iframes = driver.find_elements(By.TAG_NAME, \"iframe\")\n",
    "        print(f\"Found {len(iframes)} iframes\")\n",
    "        \n",
    "        for index, iframe in enumerate(iframes):\n",
    "            try:\n",
    "                driver.switch_to.frame(iframe)\n",
    "                print(f\"Switched to iframe {index}\")\n",
    "                \n",
    "                dismiss_selectors = [\n",
    "                    (By.XPATH, '//div[contains(@class, \"close\") or contains(@class, \"dismiss\")]'),\n",
    "                    (By.XPATH, '//button | //div[@role=\"button\"][contains(text(), \"Close\") or contains(text(), \"Dismiss\")]'),\n",
    "                ]\n",
    "                \n",
    "                for by, selector in dismiss_selectors:\n",
    "                    try:\n",
    "                        dismiss_btn = wait.until(EC.element_to_be_clickable((by, selector)))\n",
    "                        dismiss_btn.click()\n",
    "                        print(f\"✅ Pop-up closed with selector: {selector}\")\n",
    "                        return True\n",
    "                    except TimeoutException:\n",
    "                        print(f\"Selector {selector} not found in iframe {index}\")\n",
    "                        continue\n",
    "                \n",
    "                driver.switch_to.default_content()\n",
    "            except NoSuchFrameException:\n",
    "                print(f\"Iframe {index} is not accessible\")\n",
    "                driver.switch_to.default_content()\n",
    "                continue\n",
    "        \n",
    "        print(\"⚠️ No dismiss button found in any iframe\")\n",
    "        return False\n",
    "    \n",
    "    except Exception as e:\n",
    "        print(f\"⚠️ Error closing pop-up: {str(e)}\")\n",
    "        return False\n",
    "    finally:\n",
    "        driver.switch_to.default_content()\n",
    "        print(\"Returned to main content\")\n",
    "\n",
    "# Example usage\n",
    "try:\n",
    "    close_google_ad_popup(driver1, timeout=10)\n",
    "except Exception as e:\n",
    "    print(f\"Failed to close pop-up: {str(e)}\")"
   ]
  },
  {
   "cell_type": "code",
   "execution_count": 30,
   "id": "19c62686-3148-4bdc-b899-d7d0de60c05f",
   "metadata": {},
   "outputs": [
    {
     "data": {
      "text/plain": [
       "1"
      ]
     },
     "execution_count": 30,
     "metadata": {},
     "output_type": "execute_result"
    }
   ],
   "source": [
    "len(iframes)"
   ]
  },
  {
   "cell_type": "code",
   "execution_count": null,
   "id": "6513a933-db94-440b-9f04-12970d395d8b",
   "metadata": {},
   "outputs": [],
   "source": [
    "# wait.until(EC.frame_to_be_available_and_switch_to_it((By.XPATH, '//iframe[contains(@id, \"google_ads\")]')))\n",
    "dismiss_btn = driver1.find_element(By.XPATH, '//*[@id=\"dismiss-button\"]/div')\n",
    "dismiss_btn.click()\n",
    "# print(\"✅ Pop-up closed\")"
   ]
  },
  {
   "cell_type": "code",
   "execution_count": 6,
   "id": "0317c1f8-33e7-4244-b35b-2f208ee5baf5",
   "metadata": {
    "scrolled": true
   },
   "outputs": [],
   "source": [
    "# dismiss_btn = wait.until(EC.element_to_be_clickable((By.XPATH, '//*[@id=\"dismiss-button\"]/div')))"
   ]
  },
  {
   "cell_type": "code",
   "execution_count": 7,
   "id": "2779be23-1b7b-4c62-a7bb-6a8d70fe124c",
   "metadata": {},
   "outputs": [],
   "source": [
    "# just to be sure\n",
    "driver1.switch_to.default_content()"
   ]
  },
  {
   "cell_type": "code",
   "execution_count": 8,
   "id": "e82c892a",
   "metadata": {},
   "outputs": [],
   "source": [
    "# # accept cookies\n",
    "# accept_cookies_button = driver1.find_element(By.PARTIAL_LINK_TEXT,\"Accept&continue\")\n",
    "# accept_cookies_button.click()"
   ]
  },
  {
   "cell_type": "code",
   "execution_count": 9,
   "id": "e966537d",
   "metadata": {},
   "outputs": [],
   "source": [
    "# # Accept cookies (fixed selector)\n",
    "# accept_cookies_button = driver1.find_element(By.XPATH, '//button[@title=\"Accept & continue\"][1]')\n",
    "# accept_cookies_button.click()\n"
   ]
  },
  {
   "cell_type": "code",
   "execution_count": 10,
   "id": "6e08b749",
   "metadata": {},
   "outputs": [],
   "source": [
    "# iframe = driver1.find_element(By.XPATH, '//iframe[contains(@id, \"sp_message\")]')\n",
    "# driver1.switch_to.frame(iframe)\n",
    "# print(\"✅ Switched to iframe.\")"
   ]
  },
  {
   "cell_type": "code",
   "execution_count": 11,
   "id": "8bc6462d",
   "metadata": {},
   "outputs": [],
   "source": [
    "# accept_btn = driver1.find_element(By.XPATH, '//button[contains(text(), \"Accept\")]')\n",
    "# accept_btn.click()\n",
    "# print(\"✅ Accept button clicked.\")"
   ]
  },
  {
   "cell_type": "code",
   "execution_count": 33,
   "id": "daaf52dc-787d-449a-8dc3-99965af9c662",
   "metadata": {},
   "outputs": [
    {
     "name": "stdout",
     "output_type": "stream",
     "text": [
      "On page1\n",
      "✅ Page 1 scraped: 25 players.\n",
      "On page2\n",
      "✅ Page 2 scraped: 25 players.\n"
     ]
    }
   ],
   "source": [
    "all_names, all_positions, all_countries, all_dobs, all_teams = [], [], [], [], []\n",
    "for page in range(1,3):\n",
    "    print(f\"On page{page}\")\n",
    "    try:\n",
    "        # player names\n",
    "        player_names = driver1.find_elements(By.XPATH,'//tbody/tr/td[1]/table[1][@class=\"inline-table\"]/tbody/tr/td[2]')\n",
    "        # position\n",
    "        player_positions = driver1.find_elements(By.XPATH, '//tbody/tr/td[1]/table[1][@class=\"inline-table\"]/tbody/tr[2]/td')\n",
    "        # country\n",
    "        player_countries = driver1.find_elements(By.XPATH,'//table[@class=\"items\"]/tbody/tr/td[5]/img')\n",
    "        # age\n",
    "        player_dobs = driver1.find_elements(By.XPATH,'//*[@id=\"yw1\"]/table/tbody/tr/td[3]')\n",
    "        # Teams\n",
    "        player_teams = driver1.find_elements(By.XPATH,'//table[@class=\"items\"]/tbody/tr/td[8]')\n",
    "\n",
    "        # Append data\n",
    "        all_names.extend([n.text for n in player_names])\n",
    "        all_positions.extend([p.text for p in player_positions])\n",
    "        all_countries.extend([c.get_attribute('title') for c in player_countries])\n",
    "        all_dobs.extend([d.text for d in player_dobs])\n",
    "        all_teams.extend([t.text for t in player_teams])\n",
    "\n",
    "        print(f\"✅ Page {page} scraped: {len(player_names)} players.\")\n",
    "    except Exception as e:\n",
    "        print(f\"❌ Error extracting data on page {page}: {e}\")    \n",
    "    try:\n",
    "        wait = WebDriverWait(driver1, 10)\n",
    "        next_button = wait.until(EC.element_to_be_clickable((By.XPATH, '//a[@title=\"Go to the next page\"]')))\n",
    "        driver1.execute_script(\"arguments[0].click();\", next_button)\n",
    "    except:\n",
    "        print(\"Next button error\")\n",
    "    time.sleep(20)\n",
    "\n",
    "        "
   ]
  },
  {
   "cell_type": "code",
   "execution_count": 34,
   "id": "3395a553-bf87-4a12-90bd-1b33117716ca",
   "metadata": {},
   "outputs": [
    {
     "name": "stdout",
     "output_type": "stream",
     "text": [
      "50\n",
      "50\n",
      "50\n",
      "50\n",
      "50\n"
     ]
    }
   ],
   "source": [
    "print(len(all_names))\n",
    "print(len(all_positions))\n",
    "print(len(all_countries))\n",
    "print(len(all_dobs))\n",
    "print(len(all_teams))"
   ]
  },
  {
   "cell_type": "code",
   "execution_count": 35,
   "id": "5bb7ca2a-dd3d-49f4-9c55-35067731bca0",
   "metadata": {},
   "outputs": [
    {
     "name": "stdout",
     "output_type": "stream",
     "text": [
      "False\n"
     ]
    }
   ],
   "source": [
    "def has_duplicates(lst):\n",
    "    return len(lst) != len(set(lst))\n",
    "print(has_duplicates(all_names)) # Output: True"
   ]
  },
  {
   "cell_type": "code",
   "execution_count": null,
   "id": "3f9edc6f-6693-4f6b-bd11-2bb60dec25c6",
   "metadata": {},
   "outputs": [],
   "source": [
    "all_names, all_positions, all_countries, all_dobs, all_teams = [], [], [], [], []\n",
    "\n",
    "wait = WebDriverWait(driver1, 10)\n",
    "\n",
    "for page in range(1, 4):\n",
    "    print(f\"📄 On page {page}\")\n",
    "    try:\n",
    "        # Wait for table to load by checking for a stable element\n",
    "        wait.until(EC.presence_of_element_located((By.XPATH, '//table[@class=\"items\"]/tbody/tr')))\n",
    "\n",
    "        # Scrape data\n",
    "        player_names = driver1.find_elements(By.XPATH,'//tbody/tr/td[1]/table[1][@class=\"inline-table\"]/tbody/tr/td[2]')\n",
    "        player_positions = driver1.find_elements(By.XPATH,'//tbody/tr/td[1]/table[1][@class=\"inline-table\"]/tbody/tr[2]/td')\n",
    "        player_countries = driver1.find_elements(By.XPATH,'//table[@class=\"items\"]/tbody/tr/td[5]/img')\n",
    "        player_dobs = driver1.find_elements(By.XPATH,'//*[@id=\"yw1\"]/table/tbody/tr/td[3]')\n",
    "        player_teams = driver1.find_elements(By.XPATH,'//table[@class=\"items\"]/tbody/tr/td[8]')\n",
    "\n",
    "        # Append data\n",
    "        all_names.extend([n.text for n in player_names])\n",
    "        all_positions.extend([p.text for p in player_positions])\n",
    "        all_countries.extend([c.get_attribute('title') for c in player_countries])\n",
    "        all_dobs.extend([d.text for d in player_dobs])\n",
    "        all_teams.extend([t.text for t in player_teams])\n",
    "\n",
    "        print(f\"✅ Scraped Page {page}: {len(player_names)} players\")\n",
    "\n",
    "    except Exception as e:\n",
    "        print(f\"❌ Error scraping data on page {page}: {e}\")\n",
    "\n",
    "    # Try to go to the next page unless it's the last one\n",
    "    if page < 2:\n",
    "        try:\n",
    "            # Hide potential ad iframe that might block the next button\n",
    "            driver1.execute_script(\"\"\"\n",
    "                var iframe = document.querySelector('iframe[id^=\"google_ads_iframe\"]');\n",
    "                if (iframe) {\n",
    "                    iframe.style.display = 'none';\n",
    "                }\n",
    "            \"\"\")\n",
    "            # Wait and click next button\n",
    "            next_button = wait.until(EC.element_to_be_clickable((By.XPATH, '//a[@title=\"Go to the next page\"]')))\n",
    "            driver1.execute_script(\"arguments[0].click();\", next_button)\n",
    "            print(\"➡️ Clicked next page button\")\n",
    "\n",
    "        except Exception as e:\n",
    "            print(f\"⚠️ Couldn't click next: {e}\")\n",
    "    time.sleep(20)\n"
   ]
  },
  {
   "cell_type": "code",
   "execution_count": 15,
   "id": "3a5c713f-3f14-4b5e-ac99-8d3a66b62de1",
   "metadata": {},
   "outputs": [
    {
     "data": {
      "text/plain": [
       "['Cristiano Ronaldo',\n",
       " 'Raphaël Varane',\n",
       " 'Paul Pogba',\n",
       " 'Jadon Sancho',\n",
       " 'Gerard Piqué',\n",
       " 'Casemiro',\n",
       " 'David Beckham',\n",
       " 'Ángel Di María',\n",
       " 'Juan Mata',\n",
       " 'Christian Eriksen',\n",
       " 'Romelu Lukaku',\n",
       " 'Marcus Rashford',\n",
       " 'Lisandro Martínez',\n",
       " 'Bruno Fernandes',\n",
       " 'Mason Mount',\n",
       " 'Wayne Rooney',\n",
       " 'David de Gea',\n",
       " 'Bastian Schweinsteiger',\n",
       " 'Víctor Valdés',\n",
       " 'Radamel Falcao',\n",
       " 'Anthony Martial',\n",
       " 'Matthijs de Ligt',\n",
       " 'Antony',\n",
       " 'Zlatan Ibrahimović',\n",
       " 'Alexis Sánchez',\n",
       " 'Harry Maguire',\n",
       " 'Carlos Tevez',\n",
       " 'Memphis Depay',\n",
       " 'Ryan Giggs',\n",
       " 'Joshua Zirkzee',\n",
       " 'Rasmus Højlund',\n",
       " 'Edinson Cavani',\n",
       " 'Nani',\n",
       " 'Paul Scholes',\n",
       " 'Manuel Ugarte',\n",
       " 'Robin van Persie',\n",
       " 'Alex Telles',\n",
       " 'Owen Hargreaves',\n",
       " 'Nemanja Vidic',\n",
       " 'Wilfried Zaha',\n",
       " 'Donny van de Beek',\n",
       " 'Kobbie Mainoo',\n",
       " 'Leny Yoro',\n",
       " 'Henrikh Mkhitaryan',\n",
       " 'Luke Shaw',\n",
       " 'Rio Ferdinand',\n",
       " 'Fabien Barthez',\n",
       " 'Jesse Lingard',\n",
       " 'Fred',\n",
       " 'Michael Carrick',\n",
       " 'Kléberson',\n",
       " 'Alejandro Garnacho',\n",
       " 'Mason Greenwood',\n",
       " 'Anderson',\n",
       " 'Ron-Robert Zieler',\n",
       " 'Roy Keane',\n",
       " 'Patrice Evra',\n",
       " 'Arnold Mühren',\n",
       " 'Eric Bailly',\n",
       " 'André Onana',\n",
       " 'Marcel Sabitzer',\n",
       " 'Edwin van der Sar',\n",
       " 'Laurent Blanc',\n",
       " 'Ander Herrera',\n",
       " 'Ruud van Nistelrooy',\n",
       " 'Diego Forlán',\n",
       " 'Daley Blind',\n",
       " 'Morgan Schneiderlin',\n",
       " 'Michael Owen',\n",
       " 'Nemanja Matic',\n",
       " 'Marouane Fellaini',\n",
       " 'John Connelly',\n",
       " 'Diogo Dalot',\n",
       " 'Scott McTominay',\n",
       " 'Aaron Wan-Bissaka']"
      ]
     },
     "execution_count": 15,
     "metadata": {},
     "output_type": "execute_result"
    }
   ],
   "source": [
    "all_names\n",
    "# all_positions\n",
    "# all_countries\n",
    "# all_dobs\n",
    "# all_teams"
   ]
  },
  {
   "cell_type": "code",
   "execution_count": 55,
   "id": "f18e851e",
   "metadata": {},
   "outputs": [
    {
     "name": "stdout",
     "output_type": "stream",
     "text": [
      "25\n",
      "25\n",
      "25\n",
      "25\n",
      "25\n"
     ]
    }
   ],
   "source": [
    "# player names\n",
    "player_names = driver1.find_elements(By.XPATH,'//tbody/tr/td[1]/table[1][@class=\"inline-table\"]/tbody/tr/td[2]')\n",
    "# position\n",
    "player_position = driver1.find_elements(By.XPATH, '//tbody/tr/td[1]/table[1][@class=\"inline-table\"]/tbody/tr[2]/td')\n",
    "# country\n",
    "player_countries = driver1.find_elements(By.XPATH,'//table[@class=\"items\"]/tbody/tr/td[5]/img')\n",
    "# age\n",
    "player_dob = driver1.find_elements(By.XPATH,'//*[@id=\"yw1\"]/table/tbody/tr/td[3]')\n",
    "# Teams\n",
    "player_teams = driver1.find_elements(By.XPATH,'//table[@class=\"items\"]/tbody/tr/td[8]')"
   ]
  },
  {
   "cell_type": "code",
   "execution_count": 55,
   "id": "0de4261b-3cb2-4f2e-971e-f02d2597fdf7",
   "metadata": {},
   "outputs": [
    {
     "name": "stdout",
     "output_type": "stream",
     "text": [
      "25\n",
      "25\n",
      "25\n",
      "25\n",
      "25\n"
     ]
    }
   ],
   "source": [
    "# player names\n",
    "player_names = driver1.find_elements(By.XPATH,'//tbody/tr/td[1]/table[1][@class=\"inline-table\"]/tbody/tr/td[2]')\n",
    "print(len(player_names))\n",
    "\n",
    "# position\n",
    "player_position = driver1.find_elements(By.XPATH, '//tbody/tr/td[1]/table[1][@class=\"inline-table\"]/tbody/tr[2]/td')\n",
    "print(len(player_position))\n",
    "\n",
    "# country\n",
    "player_countries = driver1.find_elements(By.XPATH,'//table[@class=\"items\"]/tbody/tr/td[5]/img')\n",
    "print(len(player_countries))\n",
    "\n",
    "# age\n",
    "player_dob = driver1.find_elements(By.XPATH,'//*[@id=\"yw1\"]/table/tbody/tr/td[3]')\n",
    "print(len(player_dob))\n",
    "\n",
    "# Teams\n",
    "player_teams = driver1.find_elements(By.XPATH,'//table[@class=\"items\"]/tbody/tr/td[8]')\n",
    "print(len(player_teams))"
   ]
  },
  {
   "cell_type": "code",
   "execution_count": 56,
   "id": "f5c0cb5a",
   "metadata": {},
   "outputs": [
    {
     "name": "stdout",
     "output_type": "stream",
     "text": [
      "1.Feb 5, 1985\n",
      "2.Apr 25, 1993\n",
      "3.Mar 15, 1993\n",
      "4.Mar 25, 2000\n",
      "5.Feb 2, 1987\n",
      "6.Feb 23, 1992\n",
      "7.May 2, 1975\n",
      "8.Feb 14, 1988\n",
      "9.Apr 28, 1988\n",
      "10.Feb 14, 1992\n",
      "11.May 13, 1993\n",
      "12.Oct 31, 1997\n",
      "13.Jan 18, 1998\n",
      "14.Sep 8, 1994\n",
      "15.Jan 10, 1999\n",
      "16.Oct 24, 1985\n",
      "17.Nov 7, 1990\n",
      "18.Aug 1, 1984\n",
      "19.Jan 14, 1982\n",
      "20.Feb 10, 1986\n",
      "21.Dec 5, 1995\n",
      "22.Aug 12, 1999\n",
      "23.Feb 24, 2000\n",
      "24.Oct 3, 1981\n",
      "25.Dec 19, 1988\n"
     ]
    }
   ],
   "source": [
    "for i,name in zip(range(1,26),player_dob):\n",
    "    print(f\"{i}.{name.text}\")"
   ]
  },
  {
   "cell_type": "code",
   "execution_count": 59,
   "id": "9a3e7ca5-8bc2-4033-a312-91fd746efc34",
   "metadata": {},
   "outputs": [],
   "source": [
    "\n",
    "wait = WebDriverWait(driver1, 10)\n",
    "next_button = wait.until(EC.element_to_be_clickable((By.XPATH, '//a[@title=\"Go to the next page\"]')))\n",
    "driver1.execute_script(\"arguments[0].click();\", next_button)\n"
   ]
  },
  {
   "cell_type": "code",
   "execution_count": 33,
   "id": "80114f69-25c1-49e3-983f-b8d4338c0376",
   "metadata": {},
   "outputs": [],
   "source": [
    "next_page1 = wait.until(EC.element_to_be_clickable((By.XPATH,'//*[@id=\"yw1\"]/div[2]/ul/li[11]/a')))\n",
    "next_page1.click()"
   ]
  },
  {
   "cell_type": "code",
   "execution_count": 36,
   "id": "8cb78b0b-fbbb-4c16-9de3-664ad10b6f37",
   "metadata": {},
   "outputs": [],
   "source": [
    "next_page2 = wait.until(EC.element_to_be_clickable((By.XPATH,'//*[@id=\"yw1\"]/div[2]/ul/li[13]/a')))\n",
    "next_page2.click()"
   ]
  },
  {
   "cell_type": "code",
   "execution_count": 50,
   "id": "4e7bb2b3",
   "metadata": {},
   "outputs": [
    {
     "data": {
      "text/plain": [
       "'40'"
      ]
     },
     "execution_count": 50,
     "metadata": {},
     "output_type": "execute_result"
    }
   ],
   "source": [
    "player_ages = driver1.find_elements(By.XPATH,'//*[@id=\"yw1\"]/table/tbody/tr/td[3]')\n",
    "player_ages[0].text"
   ]
  },
  {
   "cell_type": "code",
   "execution_count": 16,
   "id": "930baecb-eb74-4db7-a689-39374c091949",
   "metadata": {},
   "outputs": [],
   "source": [
    "# Create DataFrame and Save\n",
    "df = pd.DataFrame({\n",
    "    \"Name\": all_names,\n",
    "    \"Position\": all_positions,\n",
    "    \"Country\": all_countries,\n",
    "    \"DOB/Age\": all_dobs,\n",
    "    \"Team\": all_teams\n",
    "})"
   ]
  },
  {
   "cell_type": "code",
   "execution_count": 20,
   "id": "57f32e19-ce61-4958-bf94-8eca26872397",
   "metadata": {},
   "outputs": [
    {
     "data": {
      "text/html": [
       "<div>\n",
       "<style scoped>\n",
       "    .dataframe tbody tr th:only-of-type {\n",
       "        vertical-align: middle;\n",
       "    }\n",
       "\n",
       "    .dataframe tbody tr th {\n",
       "        vertical-align: top;\n",
       "    }\n",
       "\n",
       "    .dataframe thead th {\n",
       "        text-align: right;\n",
       "    }\n",
       "</style>\n",
       "<table border=\"1\" class=\"dataframe\">\n",
       "  <thead>\n",
       "    <tr style=\"text-align: right;\">\n",
       "      <th></th>\n",
       "      <th>Name</th>\n",
       "      <th>Position</th>\n",
       "      <th>Country</th>\n",
       "      <th>DOB/Age</th>\n",
       "      <th>Team</th>\n",
       "    </tr>\n",
       "  </thead>\n",
       "  <tbody>\n",
       "    <tr>\n",
       "      <th>0</th>\n",
       "      <td>Cristiano Ronaldo</td>\n",
       "      <td>Centre-Forward</td>\n",
       "      <td>Portugal</td>\n",
       "      <td>Feb 5, 1985</td>\n",
       "      <td>First Team</td>\n",
       "    </tr>\n",
       "    <tr>\n",
       "      <th>1</th>\n",
       "      <td>Raphaël Varane</td>\n",
       "      <td>Centre-Back</td>\n",
       "      <td>France</td>\n",
       "      <td>Apr 25, 1993</td>\n",
       "      <td>First Team</td>\n",
       "    </tr>\n",
       "    <tr>\n",
       "      <th>2</th>\n",
       "      <td>Paul Pogba</td>\n",
       "      <td>Central Midfield</td>\n",
       "      <td>France</td>\n",
       "      <td>Mar 15, 1993</td>\n",
       "      <td>First Team/Reserves Team/Youth Teams</td>\n",
       "    </tr>\n",
       "    <tr>\n",
       "      <th>3</th>\n",
       "      <td>Jadon Sancho</td>\n",
       "      <td>Left Winger</td>\n",
       "      <td>England</td>\n",
       "      <td>Mar 25, 2000</td>\n",
       "      <td>First Team</td>\n",
       "    </tr>\n",
       "    <tr>\n",
       "      <th>4</th>\n",
       "      <td>Gerard Piqué</td>\n",
       "      <td>Centre-Back</td>\n",
       "      <td>Spain</td>\n",
       "      <td>Feb 2, 1987</td>\n",
       "      <td>First Team</td>\n",
       "    </tr>\n",
       "  </tbody>\n",
       "</table>\n",
       "</div>"
      ],
      "text/plain": [
       "                Name          Position   Country       DOB/Age  \\\n",
       "0  Cristiano Ronaldo    Centre-Forward  Portugal   Feb 5, 1985   \n",
       "1     Raphaël Varane       Centre-Back    France  Apr 25, 1993   \n",
       "2         Paul Pogba  Central Midfield    France  Mar 15, 1993   \n",
       "3       Jadon Sancho       Left Winger   England  Mar 25, 2000   \n",
       "4       Gerard Piqué       Centre-Back     Spain   Feb 2, 1987   \n",
       "\n",
       "                                   Team  \n",
       "0                            First Team  \n",
       "1                            First Team  \n",
       "2  First Team/Reserves Team/Youth Teams  \n",
       "3                            First Team  \n",
       "4                            First Team  "
      ]
     },
     "execution_count": 20,
     "metadata": {},
     "output_type": "execute_result"
    }
   ],
   "source": [
    "df.head()"
   ]
  },
  {
   "cell_type": "code",
   "execution_count": null,
   "id": "71ce040e-4104-46ae-a141-149f695c97c5",
   "metadata": {},
   "outputs": [],
   "source": []
  }
 ],
 "metadata": {
  "kernelspec": {
   "display_name": "Python 3 (ipykernel)",
   "language": "python",
   "name": "python3"
  },
  "language_info": {
   "codemirror_mode": {
    "name": "ipython",
    "version": 3
   },
   "file_extension": ".py",
   "mimetype": "text/x-python",
   "name": "python",
   "nbconvert_exporter": "python",
   "pygments_lexer": "ipython3",
   "version": "3.12.8"
  }
 },
 "nbformat": 4,
 "nbformat_minor": 5
}
