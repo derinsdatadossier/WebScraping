{
 "cells": [
  {
   "cell_type": "code",
   "execution_count": 36,
   "id": "8185bb57",
   "metadata": {},
   "outputs": [],
   "source": [
    "# import relevant packages and modules\n",
    "from selenium import webdriver\n",
    "from selenium.webdriver.common.keys import Keys\n",
    "from selenium.webdriver.common.by import By\n",
    "from selenium.webdriver.chrome.options import Options\n",
    "from selenium.webdriver.chrome.service import Service\n",
    "from selenium.webdriver.support.ui import WebDriverWait\n",
    "from selenium.webdriver.support import expected_conditions as EC\n",
    "import pygetwindow as gw\n",
    "import time "
   ]
  },
  {
   "cell_type": "code",
   "execution_count": 8,
   "id": "54eb4184",
   "metadata": {},
   "outputs": [],
   "source": [
    "#relevant websites\n",
    "website1 = 'https://www.geekbuying.com/search/laptops'\n",
    "website2 = 'https://www.automationexercise.com/'\n",
    "website3 = \"https://www.jumia.com.ng/mlp-k-black-friday-computer-accessories/\"\n",
    "website4 = \"https://1xbet.whoscored.com/matches/1821355/live/england-premier-league-2024-2025-southampton-manchester-city\""
   ]
  },
  {
   "cell_type": "code",
   "execution_count": 15,
   "id": "0302644b",
   "metadata": {},
   "outputs": [],
   "source": [
    "# Your ChromeDriver path\n",
    "chromedriver_path = \"C:/chromedriver-win64/chromedriver.exe\"\n",
    "\n",
    "# Create a Service object\n",
    "service = Service(executable_path=chromedriver_path)"
   ]
  },
  {
   "cell_type": "code",
   "execution_count": 73,
   "id": "a8042c69",
   "metadata": {},
   "outputs": [],
   "source": [
    "# Initialize the driver using the Service object\n",
    "driver = webdriver.Chrome(service=service)\n",
    "\n",
    "# open website\n",
    "driver.get(website4)\n",
    "\n",
    "#dmaximize window\n",
    "driver.maximize_window()\n",
    "\n",
    "# wait = WebDriverWait(driver, 10)\n",
    "\n",
    "# # Optional: wait for page to load\n",
    "# driver.implicitly_wait(5)\n"
   ]
  },
  {
   "cell_type": "markdown",
   "id": "93f00676",
   "metadata": {},
   "source": [
    "###### The code below is an attempt to ensure that the window opens and pops-up instead of opening and statying minimised. "
   ]
  },
  {
   "cell_type": "code",
   "execution_count": null,
   "id": "5995ee84",
   "metadata": {},
   "outputs": [],
   "source": [
    "# # Get all the chrome page titles\n",
    "# print(gw.getAllTitles())"
   ]
  },
  {
   "cell_type": "code",
   "execution_count": 39,
   "id": "4f52b087",
   "metadata": {
    "collapsed": true
   },
   "outputs": [
    {
     "name": "stdout",
     "output_type": "stream",
     "text": [
      "['', '', '', '', '', '', 'Practice Selenium - Jupyter Notebook - Google Chrome', 'Webscraping Assistance Offer - Google Chrome', 'Course: Web Scraping for Data Science - Python & Selenium - Basics | Udemy - Google Chrome', 'Southampton 0-0 Manchester City - Premier League 2024/2025 Live - Google Chrome', '', 'Pictures and 3 more tabs - File Explorer', '', \"Aderinsola's Resume 20240216.pdf - Adobe Acrobat Reader (64-bit)\", 'chromedriver-win64 - File Explorer', 'chromedriver-win64 - File Explorer', '', 'Command Prompt', 'chromedriver-win64 - File Explorer', 'Windows Input Experience', '', '', '', '', '', '', '', '', 'Anaconda Prompt - jupyter  notebook', 'Southampton 0-0 Manchester City - Premier League 2024/2025 Live - Google Chrome', 'Laptops - Geekbuying.com - Google Chrome', 'Southampton 0-0 Manchester City - Premier League 2024/2025 Live - Google Chrome', '', '', 'Program Manager']\n"
     ]
    }
   ],
   "source": [
    "# # Wait briefly to allow Chrome to load\n",
    "# time.sleep(2)\n",
    "\n",
    "# # Bring Chrome window to the front\n",
    "# for window in gw.getWindowsWithTitle('Southampton 0-0 Manchester City - Premier League 2024/2025 Live - Google Chrome'):\n",
    "# #     window.activate()\n",
    "#     window.restore()  # In case it is minimized\n",
    "#     break"
   ]
  },
  {
   "cell_type": "markdown",
   "id": "e1f31f10",
   "metadata": {},
   "source": [
    "###### Resume webscraping as code didn't work accurately. "
   ]
  },
  {
   "cell_type": "markdown",
   "id": "d24fb35f",
   "metadata": {},
   "source": [
    "##### Using XPath "
   ]
  },
  {
   "cell_type": "code",
   "execution_count": 45,
   "id": "f6fcd0f4",
   "metadata": {},
   "outputs": [
    {
     "name": "stdout",
     "output_type": "stream",
     "text": [
      "No popup appeared.\n",
      "Player Rating: 7.7\n"
     ]
    }
   ],
   "source": [
    "# In case an ad pops up on the page\n",
    "# Try to detect and close the popup\n",
    "try:\n",
    "    # Adjust this to the actual close button's XPath or class\n",
    "    close_button = wait.until(EC.element_to_be_clickable((By.XPATH, '//div[contains(@class,\"popup\")]//button[contains(@class,\"close\")]')))\n",
    "    close_button.click()\n",
    "    print(\"Popup closed.\")\n",
    "except:\n",
    "    print(\"No popup appeared.\")\n",
    "\n",
    "# Now locate the player rating\n",
    "try:\n",
    "    player_rating = wait.until(EC.presence_of_element_located((By.XPATH, '(//div[@class=\"pitch\"]/div/div/div/span)[1]')))\n",
    "    print(\"Player Rating:\", player_rating.text)\n",
    "except:\n",
    "    print(\"Could not find the player rating.\")"
   ]
  },
  {
   "cell_type": "code",
   "execution_count": 58,
   "id": "26e7e59d",
   "metadata": {},
   "outputs": [
    {
     "name": "stdout",
     "output_type": "stream",
     "text": [
      "Number of Ratings 22\n"
     ]
    }
   ],
   "source": [
    "# using 'expected_conditions' EC.presence_of_all_elements_located\n",
    "player_ratings = wait.until(EC.presence_of_all_elements_located((By.XPATH, '(//div[@class=\"pitch\"]/div/div/div/span)')))\n",
    "print(\"Number of Ratings\",len(player_ratings))"
   ]
  },
  {
   "cell_type": "code",
   "execution_count": 54,
   "id": "523c0a4a",
   "metadata": {},
   "outputs": [
    {
     "name": "stdout",
     "output_type": "stream",
     "text": [
      "Number of Ratings 22\n"
     ]
    }
   ],
   "source": [
    "# using driver.find_elements\n",
    "player_ratings = driver.find_elements(By.XPATH, '(//div[@class=\"pitch\"]/div/div/div/span)')\n",
    "print(\"Number of Ratings\",len(player_ratings))"
   ]
  },
  {
   "cell_type": "code",
   "execution_count": 28,
   "id": "4420e6fa",
   "metadata": {},
   "outputs": [
    {
     "name": "stdout",
     "output_type": "stream",
     "text": [
      "7.7\n"
     ]
    }
   ],
   "source": [
    "print(player_rating.text)"
   ]
  },
  {
   "cell_type": "code",
   "execution_count": 60,
   "id": "fe319305",
   "metadata": {},
   "outputs": [
    {
     "data": {
      "text/plain": [
       "list"
      ]
     },
     "execution_count": 60,
     "metadata": {},
     "output_type": "execute_result"
    }
   ],
   "source": [
    "type(player_ratings)"
   ]
  },
  {
   "cell_type": "code",
   "execution_count": 68,
   "id": "0cd93cd9",
   "metadata": {
    "collapsed": true
   },
   "outputs": [
    {
     "name": "stdout",
     "output_type": "stream",
     "text": [
      "7.7\n",
      "7.9\n",
      "7.3\n",
      "6.9\n",
      "6.7\n",
      "7.4\n",
      "6.1\n",
      "6.8\n",
      "7.0\n",
      "6.1\n",
      "6.3\n",
      "6.4\n",
      "6.5\n",
      "7.4\n",
      "7.3\n",
      "7.0\n",
      "7.1\n",
      "7.2\n",
      "6.3\n",
      "7.6\n",
      "6.6\n",
      "6.5\n"
     ]
    }
   ],
   "source": [
    "for rating in player_ratings:\n",
    "    print(rating.text)"
   ]
  },
  {
   "cell_type": "code",
   "execution_count": 69,
   "id": "c563c4fe",
   "metadata": {},
   "outputs": [
    {
     "name": "stdout",
     "output_type": "stream",
     "text": [
      "Number of Ratings 22\n",
      "7.7\n",
      "7.9\n",
      "7.3\n",
      "6.9\n",
      "6.7\n",
      "7.4\n",
      "6.1\n",
      "6.8\n",
      "7.0\n",
      "6.1\n",
      "6.3\n",
      "6.4\n",
      "6.5\n",
      "7.4\n",
      "7.3\n",
      "7.0\n",
      "7.1\n",
      "7.2\n",
      "6.3\n",
      "7.6\n",
      "6.6\n",
      "6.5\n"
     ]
    }
   ],
   "source": [
    "# try for multiple player ratings on the page\n",
    "# Now locate the player rating\n",
    "try:\n",
    "    player_ratings = wait.until(EC.presence_of_all_elements_located((By.XPATH, '(//div[@class=\"pitch\"]/div/div/div/span)')))\n",
    "    print(\"Number of Ratings\",len(player_ratings))\n",
    "    for rating in player_ratings:\n",
    "        print(rating.text)\n",
    "except:\n",
    "    print(\"Could not find the player rating.\")"
   ]
  },
  {
   "cell_type": "markdown",
   "id": "3af306b3",
   "metadata": {},
   "source": [
    "##### Using Class Name"
   ]
  },
  {
   "cell_type": "code",
   "execution_count": 74,
   "id": "7967e1e4",
   "metadata": {},
   "outputs": [],
   "source": [
    "player_names = driver.find_elements(By.CLASS_NAME,\"player-name\")"
   ]
  },
  {
   "cell_type": "code",
   "execution_count": 75,
   "id": "e7ff98e6",
   "metadata": {},
   "outputs": [
    {
     "data": {
      "text/plain": [
       "174"
      ]
     },
     "execution_count": 75,
     "metadata": {},
     "output_type": "execute_result"
    }
   ],
   "source": [
    "len(player_names)"
   ]
  },
  {
   "cell_type": "code",
   "execution_count": 80,
   "id": "9ea14d75",
   "metadata": {
    "collapsed": true
   },
   "outputs": [
    {
     "name": "stdout",
     "output_type": "stream",
     "text": [
      "1.Lesley Ugochukwu\n",
      "2.Lesley Ugochukwu\n",
      "3.Joe Aribo\n",
      "4.James McAtee\n",
      "5.Jérémy Doku\n",
      "6.Flynn Downes\n",
      "7.Tyler Dibling\n",
      "8.Cameron Archer\n",
      "9.Phil Foden\n",
      "10.Savinho\n",
      "11.Rico Lewis\n",
      "12.Nico O'Reilly\n",
      "13.Mateo Kovacic\n",
      "14.Omar Marmoush\n",
      "15.Kamaldeen Sulemana\n",
      "16.Ross Stewart\n",
      "17.Welington\n",
      "18.Ryan Manning\n",
      "19.Mateus Fernandes\n",
      "20.Will Smallbone\n",
      "21.Stewart\n",
      "22.Archer\n",
      "23.Aribo\n",
      "24.Manning\n",
      "25.Smallbone\n",
      "26.Sugawara\n",
      "27.Onuachu\n",
      "28.McCarthy\n",
      "29.Wood\n",
      "30.Ramsdale\n",
      "31.Bednarek\n",
      "32.Stephens\n",
      "33.Harwood-Bellis\n",
      "34.Bree\n",
      "35.Welington\n",
      "36.Ugochukwu\n",
      "37.Downes\n",
      "38.Fernandes\n",
      "39.Dibling\n",
      "40.Sulemana\n",
      "41.Ederson\n",
      "42.Lewis\n",
      "43.Dias\n",
      "44.Akanji\n",
      "45.Gvardiol\n",
      "46.Kovacic\n",
      "47.Silva\n",
      "48.McAtee\n",
      "49.Bruyne\n",
      "50.Foden\n",
      "51.Haaland\n",
      "52.O'Reilly\n",
      "53.Marmoush\n",
      "54.Savinho\n",
      "55.Doku\n",
      "56.Gündogan\n",
      "57.Ortega\n",
      "58.Nunes\n",
      "59.González\n",
      "60.Grealish\n",
      "61.\n",
      "62.\n",
      "63.\n",
      "64.\n",
      "65.\n",
      "66.\n",
      "67.\n",
      "68.\n",
      "69.\n",
      "70.\n",
      "71.\n",
      "72.\n",
      "73.\n",
      "74.\n",
      "75.\n",
      "76.\n",
      "77.\n",
      "78.\n",
      "79.\n",
      "80.\n",
      "81.\n",
      "82.\n",
      "83.\n",
      "84.\n",
      "85.\n",
      "86.\n",
      "87.\n",
      "88.\n",
      "89.\n",
      "90.\n",
      "91.\n",
      "92.\n",
      "93.\n",
      "94.\n",
      "95.\n",
      "96.\n",
      "97.\n",
      "98.\n",
      "99.\n",
      "100.\n",
      "101.\n",
      "102.\n",
      "103.\n",
      "104.\n",
      "105.\n",
      "106.\n",
      "107.\n",
      "108.\n",
      "109.\n",
      "110.\n",
      "111.\n",
      "112.\n",
      "113.\n",
      "114.\n",
      "115.\n",
      "116.\n",
      "117.\n",
      "118.\n",
      "119.\n",
      "120.\n",
      "121.\n",
      "122.\n",
      "123.\n",
      "124.\n",
      "125.\n",
      "126.\n",
      "127.\n",
      "128.\n",
      "129.\n",
      "130.\n",
      "131.\n",
      "132.\n",
      "133.\n",
      "134.\n",
      "135.\n",
      "136.\n",
      "137.\n",
      "138.\n",
      "139.\n",
      "140.\n",
      "141.\n",
      "142.\n",
      "143.\n",
      "144.\n",
      "145.\n",
      "146.\n",
      "147.\n",
      "148.\n",
      "149.\n",
      "150.\n",
      "151.\n",
      "152.\n",
      "153.\n",
      "154.\n",
      "155.\n",
      "156.\n",
      "157.\n",
      "158.\n",
      "159.\n",
      "160.\n",
      "161.\n",
      "162.\n",
      "163.\n",
      "164.\n",
      "165.\n",
      "166.\n",
      "167.\n",
      "168.\n",
      "169.\n",
      "170.\n",
      "171.\n",
      "172.\n",
      "173.\n",
      "174.\n"
     ]
    }
   ],
   "source": [
    "for i, name in enumerate(player_names,start=1):\n",
    "    print(f\"{i}.{name.text}\")"
   ]
  },
  {
   "cell_type": "code",
   "execution_count": 87,
   "id": "977c3556",
   "metadata": {
    "collapsed": true
   },
   "outputs": [
    {
     "name": "stdout",
     "output_type": "stream",
     "text": [
      "1.Lesley Ugochukwu\n",
      "2.Lesley Ugochukwu\n",
      "3.Joe Aribo\n",
      "4.James McAtee\n",
      "5.Jérémy Doku\n",
      "6.Flynn Downes\n",
      "7.Tyler Dibling\n",
      "8.Cameron Archer\n",
      "9.Phil Foden\n",
      "10.Savinho\n",
      "11.Rico Lewis\n",
      "12.Nico O'Reilly\n",
      "13.Mateo Kovacic\n",
      "14.Omar Marmoush\n",
      "15.Kamaldeen Sulemana\n",
      "16.Ross Stewart\n",
      "17.Welington\n",
      "18.Ryan Manning\n",
      "19.Mateus Fernandes\n",
      "20.Will Smallbone\n",
      "21.Stewart\n",
      "22.Archer\n",
      "23.Aribo\n",
      "24.Manning\n",
      "25.Smallbone\n",
      "26.Sugawara\n",
      "27.Onuachu\n",
      "28.McCarthy\n",
      "29.Wood\n",
      "30.Ramsdale\n",
      "31.Bednarek\n",
      "32.Stephens\n",
      "33.Harwood-Bellis\n",
      "34.Bree\n",
      "35.Welington\n",
      "36.Ugochukwu\n",
      "37.Downes\n",
      "38.Fernandes\n",
      "39.Dibling\n",
      "40.Sulemana\n",
      "41.Ederson\n",
      "42.Lewis\n",
      "43.Dias\n",
      "44.Akanji\n",
      "45.Gvardiol\n",
      "46.Kovacic\n",
      "47.Silva\n",
      "48.McAtee\n",
      "49.Bruyne\n",
      "50.Foden\n",
      "51.Haaland\n",
      "52.O'Reilly\n",
      "53.Marmoush\n",
      "54.Savinho\n",
      "55.Doku\n",
      "56.Gündogan\n",
      "57.Ortega\n",
      "58.Nunes\n",
      "59.González\n",
      "60.Grealish\n",
      "61.\n",
      "62.\n",
      "63.\n",
      "64.\n",
      "65.\n",
      "66.\n",
      "67.\n",
      "68.\n",
      "69.\n",
      "70.\n",
      "71.\n",
      "72.\n",
      "73.\n",
      "74.\n",
      "75.\n",
      "76.\n",
      "77.\n",
      "78.\n",
      "79.\n",
      "80.\n",
      "81.\n",
      "82.\n",
      "83.\n",
      "84.\n",
      "85.\n",
      "86.\n",
      "87.\n",
      "88.\n",
      "89.\n",
      "90.\n",
      "91.\n",
      "92.\n",
      "93.\n",
      "94.\n",
      "95.\n",
      "96.\n",
      "97.\n",
      "98.\n",
      "99.\n",
      "100.\n",
      "101.\n",
      "102.\n",
      "103.\n",
      "104.\n",
      "105.\n",
      "106.\n",
      "107.\n",
      "108.\n",
      "109.\n",
      "110.\n",
      "111.\n",
      "112.\n",
      "113.\n",
      "114.\n",
      "115.\n",
      "116.\n",
      "117.\n",
      "118.\n",
      "119.\n",
      "120.\n",
      "121.\n",
      "122.\n",
      "123.\n",
      "124.\n",
      "125.\n",
      "126.\n",
      "127.\n",
      "128.\n",
      "129.\n",
      "130.\n",
      "131.\n",
      "132.\n",
      "133.\n",
      "134.\n",
      "135.\n",
      "136.\n",
      "137.\n",
      "138.\n",
      "139.\n",
      "140.\n",
      "141.\n",
      "142.\n",
      "143.\n",
      "144.\n",
      "145.\n",
      "146.\n",
      "147.\n",
      "148.\n",
      "149.\n",
      "150.\n",
      "151.\n",
      "152.\n",
      "153.\n",
      "154.\n",
      "155.\n",
      "156.\n",
      "157.\n",
      "158.\n",
      "159.\n",
      "160.\n",
      "161.\n",
      "162.\n",
      "163.\n",
      "164.\n",
      "165.\n",
      "166.\n",
      "167.\n",
      "168.\n",
      "169.\n",
      "170.\n",
      "171.\n",
      "172.\n",
      "173.\n",
      "174.\n"
     ]
    }
   ],
   "source": [
    "for i, name in zip(range(1,176),player_names):\n",
    "    print(f\"{i}.{name.text}\")"
   ]
  },
  {
   "cell_type": "code",
   "execution_count": 92,
   "id": "8b802183",
   "metadata": {},
   "outputs": [],
   "source": [
    "search = driver.find_element(By.CLASS_NAME, 'SearchBar-module_searchBox__l4aAt')\n",
    "time.sleep(1)\n",
    "\n",
    "search.click()\n",
    "time.sleep(1)\n",
    "search.send_keys(\"Manchester\")"
   ]
  },
  {
   "cell_type": "markdown",
   "id": "e813371a",
   "metadata": {},
   "source": [
    "###### Observation\n",
    "The number of players is wrong, in some cases player names are repeated and from 61 we have blank names. Also I'm only interested in the names of players on the pitch area, maybe \"By.CLASS_NAME\" isn't the best approach."
   ]
  },
  {
   "cell_type": "markdown",
   "id": "cb37b51c",
   "metadata": {},
   "source": [
    "##### ID Locator "
   ]
  },
  {
   "cell_type": "code",
   "execution_count": 93,
   "id": "e2cf2637",
   "metadata": {},
   "outputs": [],
   "source": [
    "search = driver.find_element(By.ID, 'matches')\n",
    "time.sleep(1)\n",
    "\n",
    "search.click()\n",
    "# time.sleep(1)\n",
    "# search.send_keys(\"Manchester\")"
   ]
  },
  {
   "cell_type": "code",
   "execution_count": null,
   "id": "7e9283ec",
   "metadata": {},
   "outputs": [],
   "source": []
  }
 ],
 "metadata": {
  "kernelspec": {
   "display_name": "Python 3 (ipykernel)",
   "language": "python",
   "name": "python3"
  },
  "language_info": {
   "codemirror_mode": {
    "name": "ipython",
    "version": 3
   },
   "file_extension": ".py",
   "mimetype": "text/x-python",
   "name": "python",
   "nbconvert_exporter": "python",
   "pygments_lexer": "ipython3",
   "version": "3.11.5"
  }
 },
 "nbformat": 4,
 "nbformat_minor": 5
}
