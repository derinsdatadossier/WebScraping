{
 "cells": [
  {
   "cell_type": "code",
   "execution_count": 74,
   "id": "27fae651",
   "metadata": {},
   "outputs": [],
   "source": [
    "# import relevant packages and modules\n",
    "from selenium import webdriver\n",
    "from selenium.webdriver.common.keys import Keys\n",
    "from selenium.webdriver.common.by import By\n",
    "from selenium.webdriver.chrome.options import Options\n",
    "from selenium.webdriver.chrome.service import Service\n",
    "from selenium.webdriver.support.ui import WebDriverWait\n",
    "from selenium.common.exceptions import InvalidSelectorException, NoSuchElementException, TimeoutException\n",
    "from selenium.webdriver.support import expected_conditions as EC\n",
    "import pandas as pd\n",
    "import pygetwindow as gw\n",
    "import time "
   ]
  },
  {
   "cell_type": "code",
   "execution_count": 75,
   "id": "52e4421b",
   "metadata": {},
   "outputs": [],
   "source": [
    "chrome_driverpath = \"C:/chromedriver-win64/chromedriver.exe\"\n",
    "service = Service(executable_path=chrome_driverpath)\n",
    "driver1 = webdriver.Chrome(service=service) \n",
    "website1= \"https://www.transfermarkt.com/manchester-united/alumni/verein/985\"\n",
    "driver1.get(website1)\n",
    "driver1.maximize_window()"
   ]
  },
  {
   "cell_type": "code",
   "execution_count": 76,
   "id": "92136919",
   "metadata": {},
   "outputs": [
    {
     "name": "stdout",
     "output_type": "stream",
     "text": [
      "✅ Switched to iframe.\n",
      "✅ Accept button clicked.\n",
      "✅ Switched back to main content.\n"
     ]
    }
   ],
   "source": [
    "# Wait setup\n",
    "wait = WebDriverWait(driver1, 10)\n",
    "\n",
    "try:\n",
    "    # Wait for the iframe using @id \n",
    "    iframe = wait.until(EC.presence_of_element_located((By.XPATH, '//iframe[contains(@id, \"sp_message\")]')))\n",
    "    driver1.switch_to.frame(iframe)\n",
    "    print(\"✅ Switched to iframe.\")\n",
    "\n",
    "    # Wait for the Accept button and click it\n",
    "    accept_btn = wait.until(EC.element_to_be_clickable((By.XPATH, '//button[contains(text(), \"Accept All\") or contains(text(), \"Accept\")]')))\n",
    "    accept_btn.click()\n",
    "    print(\"✅ Accept button clicked.\")\n",
    "\n",
    "    # Return to main content\n",
    "    driver1.switch_to.default_content()\n",
    "    print(\"✅ Switched back to main content.\")\n",
    "\n",
    "except TimeoutException:\n",
    "    print(\"⚠️ Timed out waiting for iframe or accept button — maybe already accepted or not shown.\")\n",
    "\n",
    "# Continue scraping here...\n"
   ]
  },
  {
   "cell_type": "code",
   "execution_count": null,
   "id": "e82c892a",
   "metadata": {},
   "outputs": [],
   "source": [
    "# # accept cookies\n",
    "# accept_cookies_button = driver1.find_element(By.PARTIAL_LINK_TEXT,\"Accept&continue\")\n",
    "# accept_cookies_button.click()"
   ]
  },
  {
   "cell_type": "code",
   "execution_count": null,
   "id": "e966537d",
   "metadata": {
    "scrolled": false
   },
   "outputs": [],
   "source": [
    "# # Accept cookies (fixed selector)\n",
    "# accept_cookies_button = driver1.find_element(By.XPATH, '//button[@title=\"Accept & continue\"][1]')\n",
    "# accept_cookies_button.click()\n"
   ]
  },
  {
   "cell_type": "code",
   "execution_count": 59,
   "id": "6e08b749",
   "metadata": {},
   "outputs": [
    {
     "name": "stdout",
     "output_type": "stream",
     "text": [
      "✅ Switched to iframe.\n"
     ]
    }
   ],
   "source": [
    "# iframe = driver1.find_element(By.XPATH, '//iframe[contains(@id, \"sp_message\")]')\n",
    "# driver1.switch_to.frame(iframe)\n",
    "# print(\"✅ Switched to iframe.\")"
   ]
  },
  {
   "cell_type": "code",
   "execution_count": 64,
   "id": "8bc6462d",
   "metadata": {},
   "outputs": [
    {
     "name": "stdout",
     "output_type": "stream",
     "text": [
      "✅ Accept button clicked.\n"
     ]
    }
   ],
   "source": [
    "# accept_btn = driver1.find_element(By.XPATH, '//button[contains(text(), \"Accept\")]')\n",
    "# accept_btn.click()\n",
    "# print(\"✅ Accept button clicked.\")"
   ]
  },
  {
   "cell_type": "code",
   "execution_count": 77,
   "id": "f18e851e",
   "metadata": {},
   "outputs": [
    {
     "name": "stdout",
     "output_type": "stream",
     "text": [
      "25\n",
      "25\n",
      "25\n",
      "25\n"
     ]
    }
   ],
   "source": [
    "# player names\n",
    "player_names = driver1.find_elements(By.XPATH,'//table[@class=\"inline-table\"]//td[2]/a')\n",
    "print(len(player_names))\n",
    "\n",
    "# position\n",
    "player_position = driver1.find_elements(By.XPATH, '//table[@class=\"inline-table\"]/tbody/tr[2]/td')\n",
    "print(len(player_position))\n",
    "\n",
    "# country\n",
    "player_countries = driver1.find_elements(By.XPATH,'//table[@class=\"items\"]/tbody/tr/td[4]/img[@title]')\n",
    "print(len(player_countries))\n",
    "\n",
    "# age\n",
    "player_ages = driver1.find_elements(By.XPATH,'//*[@id=\"yw1\"]/table/tbody/tr/td[3]')\n",
    "print(len(player_ages))"
   ]
  },
  {
   "cell_type": "code",
   "execution_count": 78,
   "id": "f5c0cb5a",
   "metadata": {},
   "outputs": [
    {
     "name": "stdout",
     "output_type": "stream",
     "text": [
      "1.40\n",
      "2.32\n",
      "3.32\n",
      "4.25\n",
      "5.38\n",
      "6.33\n",
      "7.50\n",
      "8.37\n",
      "9.37\n",
      "10.33\n",
      "11.32\n",
      "12.27\n",
      "13.27\n",
      "14.30\n",
      "15.26\n",
      "16.39\n",
      "17.34\n",
      "18.40\n",
      "19.43\n",
      "20.39\n",
      "21.29\n",
      "22.25\n",
      "23.25\n",
      "24.43\n",
      "25.36\n"
     ]
    }
   ],
   "source": [
    "for i,name in zip(range(1,26),player_ages):\n",
    "    print(f\"{i}.{name.text}\")"
   ]
  },
  {
   "cell_type": "code",
   "execution_count": 50,
   "id": "4e7bb2b3",
   "metadata": {},
   "outputs": [
    {
     "data": {
      "text/plain": [
       "'40'"
      ]
     },
     "execution_count": 50,
     "metadata": {},
     "output_type": "execute_result"
    }
   ],
   "source": [
    "player_ages = driver1.find_elements(By.XPATH,'//*[@id=\"yw1\"]/table/tbody/tr/td[3]')\n",
    "player_ages[0].text"
   ]
  },
  {
   "cell_type": "code",
   "execution_count": null,
   "id": "4db43b72",
   "metadata": {},
   "outputs": [],
   "source": []
  }
 ],
 "metadata": {
  "kernelspec": {
   "display_name": "Python 3 (ipykernel)",
   "language": "python",
   "name": "python3"
  },
  "language_info": {
   "codemirror_mode": {
    "name": "ipython",
    "version": 3
   },
   "file_extension": ".py",
   "mimetype": "text/x-python",
   "name": "python",
   "nbconvert_exporter": "python",
   "pygments_lexer": "ipython3",
   "version": "3.11.5"
  }
 },
 "nbformat": 4,
 "nbformat_minor": 5
}
